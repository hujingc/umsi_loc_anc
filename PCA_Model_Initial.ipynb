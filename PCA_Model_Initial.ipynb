{
 "cells": [
  {
   "cell_type": "code",
   "execution_count": 43,
   "id": "surprised-holder",
   "metadata": {},
   "outputs": [],
   "source": [
    "import pandas as pd\n",
    "import numpy as np\n",
    "import seaborn as sns\n",
    "import matplotlib.pyplot as plt"
   ]
  },
  {
   "cell_type": "code",
   "execution_count": 2,
   "id": "affiliated-sudan",
   "metadata": {},
   "outputs": [],
   "source": [
    "#####Links Used:\n",
    "#https://www.datacamp.com/community/tutorials/principal-component-analysis-in-python\n",
    "#https://towardsdatascience.com/pca-using-python-scikit-learn-e653f8989e60\n",
    "#https://www.datasklr.com/principal-component-analysis-and-factor-analysis/principal-component-analysis\n",
    "#https://cmdlinetips.com/2018/03/pca-example-in-python-with-scikit-learn/\n",
    "#https://stackoverflow.com/questions/39216897/plot-pca-loadings-and-loading-in-biplot-in-sklearn-like-rs-autoplot\n"
   ]
  },
  {
   "cell_type": "code",
   "execution_count": 3,
   "id": "circular-ferry",
   "metadata": {},
   "outputs": [],
   "source": [
    "\n",
    "##WHEN WE START TRAIN/TEST SPLIT REF.: https://stackabuse.com/implementing-pca-in-python-with-scikit-learn/\n"
   ]
  },
  {
   "cell_type": "code",
   "execution_count": 192,
   "id": "authorized-exclusion",
   "metadata": {},
   "outputs": [
    {
     "data": {
      "text/html": [
       "<div>\n",
       "<style scoped>\n",
       "    .dataframe tbody tr th:only-of-type {\n",
       "        vertical-align: middle;\n",
       "    }\n",
       "\n",
       "    .dataframe tbody tr th {\n",
       "        vertical-align: top;\n",
       "    }\n",
       "\n",
       "    .dataframe thead th {\n",
       "        text-align: right;\n",
       "    }\n",
       "</style>\n",
       "<table border=\"1\" class=\"dataframe\">\n",
       "  <thead>\n",
       "    <tr style=\"text-align: right;\">\n",
       "      <th></th>\n",
       "      <th>Unnamed: 0</th>\n",
       "      <th>doubleFold</th>\n",
       "      <th>pH</th>\n",
       "      <th>sec_Mn</th>\n",
       "      <th>sec_Mw</th>\n",
       "      <th>sec_polydispersity</th>\n",
       "      <th>tens_energyAbsorp_avg</th>\n",
       "      <th>tens_maxLoad_avg</th>\n",
       "      <th>tens_strainMaxLoad_avg</th>\n",
       "      <th>tens_stressMaxLoad_avg</th>\n",
       "      <th>tens_thickness_avg</th>\n",
       "      <th>tens_youngsMod_avg</th>\n",
       "    </tr>\n",
       "  </thead>\n",
       "  <tbody>\n",
       "    <tr>\n",
       "      <th>0</th>\n",
       "      <td>9</td>\n",
       "      <td>10.0</td>\n",
       "      <td>5.065000</td>\n",
       "      <td>44.1</td>\n",
       "      <td>127.6</td>\n",
       "      <td>2.890</td>\n",
       "      <td>0.068927</td>\n",
       "      <td>28.159419</td>\n",
       "      <td>0.046616</td>\n",
       "      <td>23.102106</td>\n",
       "      <td>0.118950</td>\n",
       "      <td>1960.082957</td>\n",
       "    </tr>\n",
       "    <tr>\n",
       "      <th>1</th>\n",
       "      <td>10</td>\n",
       "      <td>10.0</td>\n",
       "      <td>4.830000</td>\n",
       "      <td>35.9</td>\n",
       "      <td>85.4</td>\n",
       "      <td>2.377</td>\n",
       "      <td>0.020220</td>\n",
       "      <td>11.903608</td>\n",
       "      <td>0.026067</td>\n",
       "      <td>9.019922</td>\n",
       "      <td>0.132200</td>\n",
       "      <td>1248.737847</td>\n",
       "    </tr>\n",
       "    <tr>\n",
       "      <th>2</th>\n",
       "      <td>11</td>\n",
       "      <td>10.0</td>\n",
       "      <td>5.206667</td>\n",
       "      <td>20.1</td>\n",
       "      <td>93.4</td>\n",
       "      <td>4.653</td>\n",
       "      <td>0.031949</td>\n",
       "      <td>15.555134</td>\n",
       "      <td>0.032685</td>\n",
       "      <td>12.233377</td>\n",
       "      <td>0.126433</td>\n",
       "      <td>1815.875375</td>\n",
       "    </tr>\n",
       "    <tr>\n",
       "      <th>3</th>\n",
       "      <td>12</td>\n",
       "      <td>10.0</td>\n",
       "      <td>5.165000</td>\n",
       "      <td>29.5</td>\n",
       "      <td>91.2</td>\n",
       "      <td>3.094</td>\n",
       "      <td>0.052825</td>\n",
       "      <td>22.858836</td>\n",
       "      <td>0.040784</td>\n",
       "      <td>18.063687</td>\n",
       "      <td>0.121600</td>\n",
       "      <td>1908.392582</td>\n",
       "    </tr>\n",
       "    <tr>\n",
       "      <th>4</th>\n",
       "      <td>13</td>\n",
       "      <td>10.0</td>\n",
       "      <td>6.405000</td>\n",
       "      <td>76.8</td>\n",
       "      <td>161.6</td>\n",
       "      <td>2.105</td>\n",
       "      <td>0.034338</td>\n",
       "      <td>11.970791</td>\n",
       "      <td>0.041122</td>\n",
       "      <td>12.906413</td>\n",
       "      <td>0.092900</td>\n",
       "      <td>1350.469421</td>\n",
       "    </tr>\n",
       "  </tbody>\n",
       "</table>\n",
       "</div>"
      ],
      "text/plain": [
       "   Unnamed: 0  doubleFold        pH  sec_Mn  sec_Mw  sec_polydispersity  \\\n",
       "0           9        10.0  5.065000    44.1   127.6               2.890   \n",
       "1          10        10.0  4.830000    35.9    85.4               2.377   \n",
       "2          11        10.0  5.206667    20.1    93.4               4.653   \n",
       "3          12        10.0  5.165000    29.5    91.2               3.094   \n",
       "4          13        10.0  6.405000    76.8   161.6               2.105   \n",
       "\n",
       "   tens_energyAbsorp_avg  tens_maxLoad_avg  tens_strainMaxLoad_avg  \\\n",
       "0               0.068927         28.159419                0.046616   \n",
       "1               0.020220         11.903608                0.026067   \n",
       "2               0.031949         15.555134                0.032685   \n",
       "3               0.052825         22.858836                0.040784   \n",
       "4               0.034338         11.970791                0.041122   \n",
       "\n",
       "   tens_stressMaxLoad_avg  tens_thickness_avg  tens_youngsMod_avg  \n",
       "0               23.102106            0.118950         1960.082957  \n",
       "1                9.019922            0.132200         1248.737847  \n",
       "2               12.233377            0.126433         1815.875375  \n",
       "3               18.063687            0.121600         1908.392582  \n",
       "4               12.906413            0.092900         1350.469421  "
      ]
     },
     "execution_count": 192,
     "metadata": {},
     "output_type": "execute_result"
    }
   ],
   "source": [
    "initData = pd.read_csv(\"pca_data_davis_cleaned.csv\")\n",
    "initData.head()"
   ]
  },
  {
   "cell_type": "code",
   "execution_count": 193,
   "id": "transsexual-application",
   "metadata": {
    "scrolled": true
   },
   "outputs": [],
   "source": [
    "cleanedData = initData.drop(axis=1, columns = [\"Unnamed: 0\", \"doubleFold\"])\n",
    "##Dropped doubleFold because it is a variable, not very accurate measure"
   ]
  },
  {
   "cell_type": "code",
   "execution_count": 194,
   "id": "damaged-madonna",
   "metadata": {
    "scrolled": true
   },
   "outputs": [
    {
     "data": {
      "text/html": [
       "<div>\n",
       "<style scoped>\n",
       "    .dataframe tbody tr th:only-of-type {\n",
       "        vertical-align: middle;\n",
       "    }\n",
       "\n",
       "    .dataframe tbody tr th {\n",
       "        vertical-align: top;\n",
       "    }\n",
       "\n",
       "    .dataframe thead th {\n",
       "        text-align: right;\n",
       "    }\n",
       "</style>\n",
       "<table border=\"1\" class=\"dataframe\">\n",
       "  <thead>\n",
       "    <tr style=\"text-align: right;\">\n",
       "      <th></th>\n",
       "      <th>pH</th>\n",
       "      <th>sec_Mn</th>\n",
       "      <th>sec_Mw</th>\n",
       "      <th>sec_polydispersity</th>\n",
       "      <th>tens_energyAbsorp_avg</th>\n",
       "      <th>tens_maxLoad_avg</th>\n",
       "      <th>tens_strainMaxLoad_avg</th>\n",
       "      <th>tens_stressMaxLoad_avg</th>\n",
       "      <th>tens_thickness_avg</th>\n",
       "      <th>tens_youngsMod_avg</th>\n",
       "    </tr>\n",
       "  </thead>\n",
       "  <tbody>\n",
       "    <tr>\n",
       "      <th>0</th>\n",
       "      <td>5.065000</td>\n",
       "      <td>44.1</td>\n",
       "      <td>127.6</td>\n",
       "      <td>2.890</td>\n",
       "      <td>0.068927</td>\n",
       "      <td>28.159419</td>\n",
       "      <td>0.046616</td>\n",
       "      <td>23.102106</td>\n",
       "      <td>0.118950</td>\n",
       "      <td>1960.082957</td>\n",
       "    </tr>\n",
       "    <tr>\n",
       "      <th>1</th>\n",
       "      <td>4.830000</td>\n",
       "      <td>35.9</td>\n",
       "      <td>85.4</td>\n",
       "      <td>2.377</td>\n",
       "      <td>0.020220</td>\n",
       "      <td>11.903608</td>\n",
       "      <td>0.026067</td>\n",
       "      <td>9.019922</td>\n",
       "      <td>0.132200</td>\n",
       "      <td>1248.737847</td>\n",
       "    </tr>\n",
       "    <tr>\n",
       "      <th>2</th>\n",
       "      <td>5.206667</td>\n",
       "      <td>20.1</td>\n",
       "      <td>93.4</td>\n",
       "      <td>4.653</td>\n",
       "      <td>0.031949</td>\n",
       "      <td>15.555134</td>\n",
       "      <td>0.032685</td>\n",
       "      <td>12.233377</td>\n",
       "      <td>0.126433</td>\n",
       "      <td>1815.875375</td>\n",
       "    </tr>\n",
       "    <tr>\n",
       "      <th>3</th>\n",
       "      <td>5.165000</td>\n",
       "      <td>29.5</td>\n",
       "      <td>91.2</td>\n",
       "      <td>3.094</td>\n",
       "      <td>0.052825</td>\n",
       "      <td>22.858836</td>\n",
       "      <td>0.040784</td>\n",
       "      <td>18.063687</td>\n",
       "      <td>0.121600</td>\n",
       "      <td>1908.392582</td>\n",
       "    </tr>\n",
       "    <tr>\n",
       "      <th>4</th>\n",
       "      <td>6.405000</td>\n",
       "      <td>76.8</td>\n",
       "      <td>161.6</td>\n",
       "      <td>2.105</td>\n",
       "      <td>0.034338</td>\n",
       "      <td>11.970791</td>\n",
       "      <td>0.041122</td>\n",
       "      <td>12.906413</td>\n",
       "      <td>0.092900</td>\n",
       "      <td>1350.469421</td>\n",
       "    </tr>\n",
       "  </tbody>\n",
       "</table>\n",
       "</div>"
      ],
      "text/plain": [
       "         pH  sec_Mn  sec_Mw  sec_polydispersity  tens_energyAbsorp_avg  \\\n",
       "0  5.065000    44.1   127.6               2.890               0.068927   \n",
       "1  4.830000    35.9    85.4               2.377               0.020220   \n",
       "2  5.206667    20.1    93.4               4.653               0.031949   \n",
       "3  5.165000    29.5    91.2               3.094               0.052825   \n",
       "4  6.405000    76.8   161.6               2.105               0.034338   \n",
       "\n",
       "   tens_maxLoad_avg  tens_strainMaxLoad_avg  tens_stressMaxLoad_avg  \\\n",
       "0         28.159419                0.046616               23.102106   \n",
       "1         11.903608                0.026067                9.019922   \n",
       "2         15.555134                0.032685               12.233377   \n",
       "3         22.858836                0.040784               18.063687   \n",
       "4         11.970791                0.041122               12.906413   \n",
       "\n",
       "   tens_thickness_avg  tens_youngsMod_avg  \n",
       "0            0.118950         1960.082957  \n",
       "1            0.132200         1248.737847  \n",
       "2            0.126433         1815.875375  \n",
       "3            0.121600         1908.392582  \n",
       "4            0.092900         1350.469421  "
      ]
     },
     "execution_count": 194,
     "metadata": {},
     "output_type": "execute_result"
    }
   ],
   "source": [
    "cleanedData.head()"
   ]
  },
  {
   "cell_type": "code",
   "execution_count": 221,
   "id": "differential-ordering",
   "metadata": {},
   "outputs": [
    {
     "data": {
      "text/plain": [
       "Index(['pH', 'sec_Mn', 'sec_Mw', 'sec_polydispersity', 'tens_energyAbsorp_avg',\n",
       "       'tens_maxLoad_avg', 'tens_strainMaxLoad_avg', 'tens_stressMaxLoad_avg',\n",
       "       'tens_thickness_avg', 'tens_youngsMod_avg'],\n",
       "      dtype='object')"
      ]
     },
     "execution_count": 221,
     "metadata": {},
     "output_type": "execute_result"
    }
   ],
   "source": []
  },
  {
   "cell_type": "code",
   "execution_count": 195,
   "id": "similar-testimony",
   "metadata": {
    "scrolled": false
   },
   "outputs": [
    {
     "data": {
      "text/plain": [
       "(482, 10)"
      ]
     },
     "execution_count": 195,
     "metadata": {},
     "output_type": "execute_result"
    }
   ],
   "source": [
    "cleanedData.shape"
   ]
  },
  {
   "cell_type": "markdown",
   "id": "essential-consultation",
   "metadata": {},
   "source": [
    "# Ask Fenella and Andrew youngsMod NaNs (blank cells)"
   ]
  },
  {
   "cell_type": "markdown",
   "id": "extreme-hawaii",
   "metadata": {},
   "source": [
    "### fill with median or drop or something else"
   ]
  },
  {
   "cell_type": "code",
   "execution_count": 196,
   "id": "desirable-diana",
   "metadata": {
    "scrolled": true
   },
   "outputs": [
    {
     "data": {
      "text/html": [
       "<div>\n",
       "<style scoped>\n",
       "    .dataframe tbody tr th:only-of-type {\n",
       "        vertical-align: middle;\n",
       "    }\n",
       "\n",
       "    .dataframe tbody tr th {\n",
       "        vertical-align: top;\n",
       "    }\n",
       "\n",
       "    .dataframe thead th {\n",
       "        text-align: right;\n",
       "    }\n",
       "</style>\n",
       "<table border=\"1\" class=\"dataframe\">\n",
       "  <thead>\n",
       "    <tr style=\"text-align: right;\">\n",
       "      <th></th>\n",
       "      <th>pH</th>\n",
       "      <th>sec_Mn</th>\n",
       "      <th>sec_Mw</th>\n",
       "      <th>sec_polydispersity</th>\n",
       "      <th>tens_energyAbsorp_avg</th>\n",
       "      <th>tens_maxLoad_avg</th>\n",
       "      <th>tens_strainMaxLoad_avg</th>\n",
       "      <th>tens_stressMaxLoad_avg</th>\n",
       "      <th>tens_thickness_avg</th>\n",
       "      <th>tens_youngsMod_avg</th>\n",
       "    </tr>\n",
       "  </thead>\n",
       "  <tbody>\n",
       "  </tbody>\n",
       "</table>\n",
       "</div>"
      ],
      "text/plain": [
       "Empty DataFrame\n",
       "Columns: [pH, sec_Mn, sec_Mw, sec_polydispersity, tens_energyAbsorp_avg, tens_maxLoad_avg, tens_strainMaxLoad_avg, tens_stressMaxLoad_avg, tens_thickness_avg, tens_youngsMod_avg]\n",
       "Index: []"
      ]
     },
     "execution_count": 196,
     "metadata": {},
     "output_type": "execute_result"
    }
   ],
   "source": [
    "cleanedData[cleanedData.isnull().any(axis=1)]"
   ]
  },
  {
   "cell_type": "markdown",
   "id": "pointed-anger",
   "metadata": {},
   "source": [
    "## FOR NOW: drop rows that have nan"
   ]
  },
  {
   "cell_type": "code",
   "execution_count": 197,
   "id": "revised-compact",
   "metadata": {},
   "outputs": [
    {
     "data": {
      "text/plain": [
       "(482, 10)"
      ]
     },
     "execution_count": 197,
     "metadata": {},
     "output_type": "execute_result"
    }
   ],
   "source": [
    "cleanedData = cleanedData.dropna()\n",
    "cleanedData.shape"
   ]
  },
  {
   "cell_type": "code",
   "execution_count": 198,
   "id": "indonesian-responsibility",
   "metadata": {},
   "outputs": [],
   "source": [
    "import sklearn\n",
    "from sklearn.preprocessing import StandardScaler\n",
    "from sklearn.preprocessing import Normalizer\n",
    "from sklearn.decomposition import PCA\n",
    "from sklearn.pipeline import Pipeline"
   ]
  },
  {
   "cell_type": "code",
   "execution_count": 199,
   "id": "united-dutch",
   "metadata": {},
   "outputs": [],
   "source": [
    "pipeline = Pipeline([\n",
    "    ('scaling', StandardScaler()), ('normalize', Normalizer())  \n",
    "])\n",
    "\n",
    "##"
   ]
  },
  {
   "cell_type": "code",
   "execution_count": 200,
   "id": "reserved-expert",
   "metadata": {},
   "outputs": [],
   "source": [
    "##Scree code:\n",
    "\n",
    "screePipe = pipeline.fit_transform(cleanedData)\n",
    "scree_pca = PCA(n_components=5)"
   ]
  },
  {
   "cell_type": "code",
   "execution_count": 201,
   "id": "mysterious-homeless",
   "metadata": {},
   "outputs": [],
   "source": [
    "screeFitTransf=scree_pca.fit_transform(screePipe)"
   ]
  },
  {
   "cell_type": "code",
   "execution_count": 202,
   "id": "pressing-richmond",
   "metadata": {},
   "outputs": [
    {
     "data": {
      "text/plain": [
       "array([[ 0.95008867,  0.43844895,  0.06898693,  0.26939853, -0.02021078],\n",
       "       [-0.82670241,  0.43247815, -0.06426931,  0.12659533, -0.18328841],\n",
       "       [-0.50633225,  0.06081891,  0.59761317,  0.56078583, -0.10680717],\n",
       "       ...,\n",
       "       [ 0.63018235, -0.76783294, -0.04378941,  0.15123922, -0.19802056],\n",
       "       [ 0.94780173, -0.32579598,  0.1893587 ,  0.2911814 , -0.12664631],\n",
       "       [ 0.71125717, -0.62784733,  0.12514662, -0.21226608,  0.10764803]])"
      ]
     },
     "execution_count": 202,
     "metadata": {},
     "output_type": "execute_result"
    }
   ],
   "source": [
    "screeFitTransf"
   ]
  },
  {
   "cell_type": "code",
   "execution_count": 203,
   "id": "broadband-facing",
   "metadata": {},
   "outputs": [],
   "source": [
    "scree_df = pd.DataFrame(data = screeFitTransf, columns = ['PC 1', 'PC 2', 'PC 3', 'PC 4', 'PC 5'])"
   ]
  },
  {
   "cell_type": "code",
   "execution_count": 204,
   "id": "acknowledged-comfort",
   "metadata": {},
   "outputs": [
    {
     "data": {
      "text/html": [
       "<div>\n",
       "<style scoped>\n",
       "    .dataframe tbody tr th:only-of-type {\n",
       "        vertical-align: middle;\n",
       "    }\n",
       "\n",
       "    .dataframe tbody tr th {\n",
       "        vertical-align: top;\n",
       "    }\n",
       "\n",
       "    .dataframe thead th {\n",
       "        text-align: right;\n",
       "    }\n",
       "</style>\n",
       "<table border=\"1\" class=\"dataframe\">\n",
       "  <thead>\n",
       "    <tr style=\"text-align: right;\">\n",
       "      <th></th>\n",
       "      <th>PC 1</th>\n",
       "      <th>PC 2</th>\n",
       "      <th>PC 3</th>\n",
       "      <th>PC 4</th>\n",
       "      <th>PC 5</th>\n",
       "    </tr>\n",
       "  </thead>\n",
       "  <tbody>\n",
       "    <tr>\n",
       "      <th>0</th>\n",
       "      <td>0.950089</td>\n",
       "      <td>0.438449</td>\n",
       "      <td>0.068987</td>\n",
       "      <td>0.269399</td>\n",
       "      <td>-0.020211</td>\n",
       "    </tr>\n",
       "    <tr>\n",
       "      <th>1</th>\n",
       "      <td>-0.826702</td>\n",
       "      <td>0.432478</td>\n",
       "      <td>-0.064269</td>\n",
       "      <td>0.126595</td>\n",
       "      <td>-0.183288</td>\n",
       "    </tr>\n",
       "    <tr>\n",
       "      <th>2</th>\n",
       "      <td>-0.506332</td>\n",
       "      <td>0.060819</td>\n",
       "      <td>0.597613</td>\n",
       "      <td>0.560786</td>\n",
       "      <td>-0.106807</td>\n",
       "    </tr>\n",
       "    <tr>\n",
       "      <th>3</th>\n",
       "      <td>0.020899</td>\n",
       "      <td>0.465022</td>\n",
       "      <td>0.624310</td>\n",
       "      <td>0.418567</td>\n",
       "      <td>0.290505</td>\n",
       "    </tr>\n",
       "    <tr>\n",
       "      <th>4</th>\n",
       "      <td>-0.013556</td>\n",
       "      <td>0.468299</td>\n",
       "      <td>-0.623792</td>\n",
       "      <td>0.587758</td>\n",
       "      <td>-0.314308</td>\n",
       "    </tr>\n",
       "  </tbody>\n",
       "</table>\n",
       "</div>"
      ],
      "text/plain": [
       "       PC 1      PC 2      PC 3      PC 4      PC 5\n",
       "0  0.950089  0.438449  0.068987  0.269399 -0.020211\n",
       "1 -0.826702  0.432478 -0.064269  0.126595 -0.183288\n",
       "2 -0.506332  0.060819  0.597613  0.560786 -0.106807\n",
       "3  0.020899  0.465022  0.624310  0.418567  0.290505\n",
       "4 -0.013556  0.468299 -0.623792  0.587758 -0.314308"
      ]
     },
     "execution_count": 204,
     "metadata": {},
     "output_type": "execute_result"
    }
   ],
   "source": [
    "scree_df.head()"
   ]
  },
  {
   "cell_type": "code",
   "execution_count": 205,
   "id": "banner-sentence",
   "metadata": {},
   "outputs": [
    {
     "data": {
      "image/png": "[encoded data removed]",
      "text/plain": [
       "<Figure size 432x288 with 1 Axes>"
      ]
     },
     "metadata": {
      "needs_background": "light"
     },
     "output_type": "display_data"
    }
   ],
   "source": [
    "###Scree Plot\n",
    "\n",
    "import matplotlib.pyplot as plt\n",
    "\n",
    "scree_PC_Values = np.arange(scree_pca.n_components_) + 1\n",
    "plt.plot(scree_PC_Values, np.square(scree_pca.explained_variance_ratio_), 'ro-', linewidth=2)\n",
    "###We transformed the scree plot by squaring the variance explained to make the \"ideal\" PC more apparent\n",
    "plt.title('Scree Plot')\n",
    "plt.xlabel('Principal Component')\n",
    "plt.ylabel('Proportion of Variance Explained\\n(transformed, squared)')\n",
    "plt.show()"
   ]
  },
  {
   "cell_type": "markdown",
   "id": "great-pencil",
   "metadata": {},
   "source": [
    "We gathered from the scree plot that we should try 3 principal components in our PCA model"
   ]
  },
  {
   "cell_type": "markdown",
   "id": "wrapped-acceptance",
   "metadata": {},
   "source": [
    "## Actual PCA Model"
   ]
  },
  {
   "cell_type": "code",
   "execution_count": 233,
   "id": "amateur-newcastle",
   "metadata": {
    "scrolled": true
   },
   "outputs": [
    {
     "data": {
      "text/plain": [
       "Index(['pH', 'sec_Mn', 'sec_Mw', 'sec_polydispersity', 'tens_energyAbsorp_avg',\n",
       "       'tens_maxLoad_avg', 'tens_strainMaxLoad_avg', 'tens_stressMaxLoad_avg',\n",
       "       'tens_thickness_avg', 'tens_youngsMod_avg'],\n",
       "      dtype='object')"
      ]
     },
     "execution_count": 233,
     "metadata": {},
     "output_type": "execute_result"
    }
   ],
   "source": [
    "cleanedData_columnNames= cleanedData.columns\n",
    "cleanedData_columnNames"
   ]
  },
  {
   "cell_type": "code",
   "execution_count": 234,
   "id": "framed-welcome",
   "metadata": {},
   "outputs": [],
   "source": [
    "scaleNormPipe = pipeline.fit_transform(cleanedData)"
   ]
  },
  {
   "cell_type": "code",
   "execution_count": 246,
   "id": "solar-update",
   "metadata": {},
   "outputs": [],
   "source": [
    "##Trying something new based on https://ostwalprasad.github.io/machine-learning/PCA-using-python.html\n",
    "##(with feature labels included in df)\n",
    "pca_df = pd.DataFrame(data = scaleNormPipe, columns = cleanedData_columnNames)"
   ]
  },
  {
   "cell_type": "code",
   "execution_count": 259,
   "id": "serial-chair",
   "metadata": {},
   "outputs": [
    {
     "data": {
      "text/html": [
       "<div>\n",
       "<style scoped>\n",
       "    .dataframe tbody tr th:only-of-type {\n",
       "        vertical-align: middle;\n",
       "    }\n",
       "\n",
       "    .dataframe tbody tr th {\n",
       "        vertical-align: top;\n",
       "    }\n",
       "\n",
       "    .dataframe thead th {\n",
       "        text-align: right;\n",
       "    }\n",
       "</style>\n",
       "<table border=\"1\" class=\"dataframe\">\n",
       "  <thead>\n",
       "    <tr style=\"text-align: right;\">\n",
       "      <th></th>\n",
       "      <th>pH</th>\n",
       "      <th>sec_Mn</th>\n",
       "      <th>sec_Mw</th>\n",
       "      <th>sec_polydispersity</th>\n",
       "      <th>tens_energyAbsorp_avg</th>\n",
       "      <th>tens_maxLoad_avg</th>\n",
       "      <th>tens_strainMaxLoad_avg</th>\n",
       "      <th>tens_stressMaxLoad_avg</th>\n",
       "      <th>tens_thickness_avg</th>\n",
       "      <th>tens_youngsMod_avg</th>\n",
       "    </tr>\n",
       "  </thead>\n",
       "  <tbody>\n",
       "    <tr>\n",
       "      <th>0</th>\n",
       "      <td>0.132511</td>\n",
       "      <td>0.329199</td>\n",
       "      <td>0.359491</td>\n",
       "      <td>0.120025</td>\n",
       "      <td>0.356148</td>\n",
       "      <td>0.450898</td>\n",
       "      <td>0.515260</td>\n",
       "      <td>0.328520</td>\n",
       "      <td>0.055547</td>\n",
       "      <td>-0.154190</td>\n",
       "    </tr>\n",
       "    <tr>\n",
       "      <th>1</th>\n",
       "      <td>-0.030291</td>\n",
       "      <td>0.012640</td>\n",
       "      <td>-0.039161</td>\n",
       "      <td>-0.103422</td>\n",
       "      <td>-0.340646</td>\n",
       "      <td>-0.468040</td>\n",
       "      <td>-0.341700</td>\n",
       "      <td>-0.525913</td>\n",
       "      <td>0.223101</td>\n",
       "      <td>-0.456590</td>\n",
       "    </tr>\n",
       "    <tr>\n",
       "      <th>2</th>\n",
       "      <td>0.143931</td>\n",
       "      <td>-0.331613</td>\n",
       "      <td>0.005833</td>\n",
       "      <td>0.693178</td>\n",
       "      <td>-0.227354</td>\n",
       "      <td>-0.330190</td>\n",
       "      <td>-0.151491</td>\n",
       "      <td>-0.391744</td>\n",
       "      <td>0.149382</td>\n",
       "      <td>-0.171304</td>\n",
       "    </tr>\n",
       "    <tr>\n",
       "      <th>3</th>\n",
       "      <td>0.413200</td>\n",
       "      <td>-0.419313</td>\n",
       "      <td>-0.024343</td>\n",
       "      <td>0.472740</td>\n",
       "      <td>0.062112</td>\n",
       "      <td>0.046802</td>\n",
       "      <td>0.371746</td>\n",
       "      <td>-0.260510</td>\n",
       "      <td>0.245440</td>\n",
       "      <td>-0.396253</td>\n",
       "    </tr>\n",
       "    <tr>\n",
       "      <th>4</th>\n",
       "      <td>0.465823</td>\n",
       "      <td>0.599137</td>\n",
       "      <td>0.273350</td>\n",
       "      <td>-0.136789</td>\n",
       "      <td>-0.131566</td>\n",
       "      <td>-0.329686</td>\n",
       "      <td>0.081191</td>\n",
       "      <td>-0.234858</td>\n",
       "      <td>-0.247225</td>\n",
       "      <td>-0.285900</td>\n",
       "    </tr>\n",
       "  </tbody>\n",
       "</table>\n",
       "</div>"
      ],
      "text/plain": [
       "         pH    sec_Mn    sec_Mw  sec_polydispersity  tens_energyAbsorp_avg  \\\n",
       "0  0.132511  0.329199  0.359491            0.120025               0.356148   \n",
       "1 -0.030291  0.012640 -0.039161           -0.103422              -0.340646   \n",
       "2  0.143931 -0.331613  0.005833            0.693178              -0.227354   \n",
       "3  0.413200 -0.419313 -0.024343            0.472740               0.062112   \n",
       "4  0.465823  0.599137  0.273350           -0.136789              -0.131566   \n",
       "\n",
       "   tens_maxLoad_avg  tens_strainMaxLoad_avg  tens_stressMaxLoad_avg  \\\n",
       "0          0.450898                0.515260                0.328520   \n",
       "1         -0.468040               -0.341700               -0.525913   \n",
       "2         -0.330190               -0.151491               -0.391744   \n",
       "3          0.046802                0.371746               -0.260510   \n",
       "4         -0.329686                0.081191               -0.234858   \n",
       "\n",
       "   tens_thickness_avg  tens_youngsMod_avg  \n",
       "0            0.055547           -0.154190  \n",
       "1            0.223101           -0.456590  \n",
       "2            0.149382           -0.171304  \n",
       "3            0.245440           -0.396253  \n",
       "4           -0.247225           -0.285900  "
      ]
     },
     "execution_count": 259,
     "metadata": {},
     "output_type": "execute_result"
    }
   ],
   "source": [
    "pca_df.head()"
   ]
  },
  {
   "cell_type": "code",
   "execution_count": 252,
   "id": "unique-group",
   "metadata": {},
   "outputs": [],
   "source": [
    "pca = PCA(n_components=3)"
   ]
  },
  {
   "cell_type": "code",
   "execution_count": 249,
   "id": "alone-benchmark",
   "metadata": {},
   "outputs": [],
   "source": [
    "#pcaFitTransf=pca.fit_transform(pca_df)"
   ]
  },
  {
   "cell_type": "code",
   "execution_count": 253,
   "id": "swedish-killer",
   "metadata": {},
   "outputs": [],
   "source": [
    "pcaFitTransf=pca.fit_transform(scaleNormPipe)"
   ]
  },
  {
   "cell_type": "code",
   "execution_count": 254,
   "id": "freelance-lawrence",
   "metadata": {
    "scrolled": true
   },
   "outputs": [
    {
     "data": {
      "text/plain": [
       "array([[ 0.95008867,  0.43844895,  0.06898693],\n",
       "       [-0.82670241,  0.43247815, -0.06426931],\n",
       "       [-0.50633225,  0.06081891,  0.59761317],\n",
       "       ...,\n",
       "       [ 0.63018235, -0.76783294, -0.04378941],\n",
       "       [ 0.94780173, -0.32579598,  0.1893587 ],\n",
       "       [ 0.71125717, -0.62784733,  0.12514662]])"
      ]
     },
     "execution_count": 254,
     "metadata": {},
     "output_type": "execute_result"
    }
   ],
   "source": [
    "pcaFitTransf"
   ]
  },
  {
   "cell_type": "code",
   "execution_count": 241,
   "id": "rapid-examination",
   "metadata": {},
   "outputs": [],
   "source": [
    "y = pca_df.columns"
   ]
  },
  {
   "cell_type": "code",
   "execution_count": 258,
   "id": "cheap-lecture",
   "metadata": {},
   "outputs": [
    {
     "data": {
      "image/png": "[encoded data removed]",
      "text/plain": [
       "<Figure size 432x288 with 1 Axes>"
      ]
     },
     "metadata": {
      "needs_background": "light"
     },
     "output_type": "display_data"
    },
    {
     "data": {
      "image/png": "[encoded data removed]",
      "text/plain": [
       "<Figure size 432x288 with 1 Axes>"
      ]
     },
     "metadata": {
      "needs_background": "light"
     },
     "output_type": "display_data"
    }
   ],
   "source": [
    "\n",
    "# iris = datasets.load_iris()\n",
    "# X = iris.data\n",
    "# y = iris.target\n",
    "\n",
    "# # In general, it's a good idea to scale the data prior to PCA.\n",
    "\n",
    "# X=scaler.fit_transform(X)    \n",
    "# pca = PCA()\n",
    "# x_new = pca.fit_transform(X)\n",
    "def myplot(score,coeff,labels=None):\n",
    "    xs = score[:,0]\n",
    "    ys = score[:,1]\n",
    "    n = coeff.shape[0]\n",
    "    scalex = 1.0/(xs.max() - xs.min())\n",
    "    scaley = 1.0/(ys.max() - ys.min())\n",
    "    plt.scatter(xs * scalex,ys * scaley, c = \"yellow\")\n",
    "    for i in range(n):\n",
    "        plt.arrow(0, 0, coeff[i,0], coeff[i,1],color = 'r',alpha = 0.5)\n",
    "        if labels is None:\n",
    "            plt.text(coeff[i,0]* 1.15, coeff[i,1] * 1.15, \"Var\"+str(i+1), color = 'g', ha = 'center', va = 'center')\n",
    "        else:\n",
    "            plt.text(coeff[i,0]* 1.15, coeff[i,1] * 1.15, labels[i], color = 'g', ha = 'center', va = 'center')\n",
    "    plt.xlim(-1,1)\n",
    "    plt.ylim(-1,1)\n",
    "    plt.xlabel(\"PC{}\".format(1)) #PCA 1\n",
    "    plt.ylabel(\"PC{}\".format(2)) #PCA 2\n",
    "    plt.grid()\n",
    "\n",
    "#Call the function. Use only the 2 PCs.\n",
    "myplot(pcaFitTransf[:,0:2],np.transpose(pca.components_[0:2, :]))\n",
    "plt.show()\n",
    "def myplot(score,coeff,labels=None):\n",
    "    xs = score[:,0]\n",
    "    ys = score[:,1]\n",
    "    n = coeff.shape[0]\n",
    "    scalex = 1.0/(xs.max() - xs.min())\n",
    "    scaley = 1.0/(ys.max() - ys.min())\n",
    "    plt.scatter(xs * scalex,ys * scaley, c = \"yellow\")\n",
    "    for i in range(n):\n",
    "        plt.arrow(0, 0, coeff[i,0], coeff[i,1],color = 'r',alpha = 0.5)\n",
    "        if labels is None:\n",
    "            plt.text(coeff[i,0]* 1.15, coeff[i,1] * 1.15, \"Var\"+str(i+1), color = 'g', ha = 'center', va = 'center')\n",
    "        else:\n",
    "            plt.text(coeff[i,0]* 1.15, coeff[i,1] * 1.15, labels[i], color = 'g', ha = 'center', va = 'center')\n",
    "    plt.xlim(-1,1)\n",
    "    plt.ylim(-1,1)\n",
    "    plt.xlabel(\"PC{}\".format(1))\n",
    "    plt.ylabel(\"PC{}\".format(2))\n",
    "    plt.grid()\n",
    "\n",
    "#Call the function. Use only the 2 PCs.\n",
    "myplot(pcaFitTransf[:,0:2],np.transpose(pca.components_[0:2, :]), list(y))\n",
    "plt.show()"
   ]
  },
  {
   "cell_type": "code",
   "execution_count": null,
   "id": "honey-jaguar",
   "metadata": {},
   "outputs": [],
   "source": []
  },
  {
   "cell_type": "code",
   "execution_count": null,
   "id": "worldwide-senegal",
   "metadata": {},
   "outputs": [],
   "source": []
  },
  {
   "cell_type": "code",
   "execution_count": null,
   "id": "sporting-burning",
   "metadata": {},
   "outputs": [],
   "source": []
  },
  {
   "cell_type": "markdown",
   "id": "native-remains",
   "metadata": {},
   "source": [
    "## SVD Attempt"
   ]
  },
  {
   "cell_type": "code",
   "execution_count": null,
   "id": "cardiac-yugoslavia",
   "metadata": {},
   "outputs": [],
   "source": [
    "##    scores = cross_val_score(\n",
    "##    classifier,\n",
    "##    X_train,\n",
    "##    y_train,\n",
    "##    cv=10,\n",
    "##    scoring='accuracy',\n",
    "##    n_jobs=-1)"
   ]
  },
  {
   "cell_type": "code",
   "execution_count": 244,
   "id": "aerial-singing",
   "metadata": {},
   "outputs": [],
   "source": [
    "# ###Loading Plot\n",
    "\n",
    "# # Plot explained variance\n",
    "# fig, ax = pca.plot()\n",
    "\n",
    "# # Scatter first 5 PCs\n",
    "# fig, ax = pca.scatter()\n",
    "\n",
    "# # Make biplot with the number of features\n",
    "# fig, ax = pca.biplot(n_feat=11)"
   ]
  },
  {
   "cell_type": "code",
   "execution_count": null,
   "id": "unlimited-treatment",
   "metadata": {},
   "outputs": [],
   "source": []
  },
  {
   "cell_type": "code",
   "execution_count": null,
   "id": "adjacent-guatemala",
   "metadata": {},
   "outputs": [],
   "source": []
  },
  {
   "cell_type": "code",
   "execution_count": 138,
   "id": "individual-arbor",
   "metadata": {},
   "outputs": [],
   "source": [
    "# from sklearn.preprocessing import StandardScaler\n",
    "# scaler = StandardScaler()\n",
    "# scaler.fit(cleanedData)\n",
    "# ##reference: https://datascienceplus.com/principal-component-analysis-pca-with-python/"
   ]
  },
  {
   "cell_type": "code",
   "execution_count": 23,
   "id": "metallic-grove",
   "metadata": {},
   "outputs": [],
   "source": [
    "#scaled_data = scaler.transform(cleanedData)"
   ]
  },
  {
   "cell_type": "code",
   "execution_count": null,
   "id": "blind-titanium",
   "metadata": {},
   "outputs": [],
   "source": [
    "#scaled_data[0]"
   ]
  },
  {
   "cell_type": "code",
   "execution_count": null,
   "id": "parental-reception",
   "metadata": {},
   "outputs": [],
   "source": []
  }
 ],
 "metadata": {
  "kernelspec": {
   "display_name": "Python 3",
   "language": "python",
   "name": "python3"
  },
  "language_info": {
   "codemirror_mode": {
    "name": "ipython",
    "version": 3
   },
   "file_extension": ".py",
   "mimetype": "text/x-python",
   "name": "python",
   "nbconvert_exporter": "python",
   "pygments_lexer": "ipython3",
   "version": "3.8.5"
  }
 },
 "nbformat": 4,
 "nbformat_minor": 5
}
