{
 "cells": [
  {
   "cell_type": "markdown",
   "id": "effective-prescription",
   "metadata": {},
   "source": [
    "# PCA MODEL"
   ]
  },
  {
   "cell_type": "code",
   "execution_count": 1,
   "id": "sorted-being",
   "metadata": {},
   "outputs": [],
   "source": [
    "#####Links Used:\n",
    "#https://www.datacamp.com/community/tutorials/principal-component-analysis-in-python\n",
    "#https://towardsdatascience.com/pca-using-python-scikit-learn-e653f8989e60\n",
    "#https://www.datasklr.com/principal-component-analysis-and-factor-analysis/principal-component-analysis\n",
    "#https://cmdlinetips.com/2018/03/pca-example-in-python-with-scikit-learn/\n",
    "#https://stackoverflow.com/questions/39216897/plot-pca-loadings-and-loading-in-biplot-in-sklearn-like-rs-autoplot\n",
    "\n",
    "##WHEN WE START TRAIN/TEST SPLIT REF.: https://stackabuse.com/implementing-pca-in-python-with-scikit-learn/"
   ]
  },
  {
   "cell_type": "markdown",
   "id": "environmental-doctor",
   "metadata": {},
   "source": [
    "# LOADING DATA"
   ]
  },
  {
   "cell_type": "code",
   "execution_count": 2,
   "id": "crucial-singapore",
   "metadata": {},
   "outputs": [],
   "source": [
    "import pandas as pd\n",
    "import numpy as np\n",
    "import seaborn as sns\n",
    "import matplotlib.pyplot as plt"
   ]
  },
  {
   "cell_type": "code",
   "execution_count": 3,
   "id": "southern-unknown",
   "metadata": {
    "scrolled": true
   },
   "outputs": [
    {
     "ename": "AttributeError",
     "evalue": "'float' object has no attribute 'split'",
     "output_type": "error",
     "traceback": [
      "\u001b[1;31m---------------------------------------------------------------------------\u001b[0m",
      "\u001b[1;31mAttributeError\u001b[0m                            Traceback (most recent call last)",
      "\u001b[1;32m<ipython-input-3-9cc6a14a1db7>\u001b[0m in \u001b[0;36m<module>\u001b[1;34m\u001b[0m\n\u001b[0;32m      1\u001b[0m \u001b[0minitData\u001b[0m \u001b[1;33m=\u001b[0m \u001b[0mpd\u001b[0m\u001b[1;33m.\u001b[0m\u001b[0mread_csv\u001b[0m\u001b[1;33m(\u001b[0m\u001b[1;34m\"publisher_analysis_data.csv\"\u001b[0m\u001b[1;33m)\u001b[0m\u001b[1;33m\u001b[0m\u001b[1;33m\u001b[0m\u001b[0m\n\u001b[1;32m----> 2\u001b[1;33m \u001b[0minitData\u001b[0m\u001b[1;33m[\u001b[0m\u001b[1;34m'year'\u001b[0m\u001b[1;33m]\u001b[0m \u001b[1;33m=\u001b[0m \u001b[0minitData\u001b[0m\u001b[1;33m[\u001b[0m\u001b[1;34m'year'\u001b[0m\u001b[1;33m]\u001b[0m\u001b[1;33m.\u001b[0m\u001b[0mapply\u001b[0m\u001b[1;33m(\u001b[0m\u001b[1;32mlambda\u001b[0m \u001b[0mx\u001b[0m\u001b[1;33m:\u001b[0m \u001b[0mint\u001b[0m\u001b[1;33m(\u001b[0m\u001b[0mx\u001b[0m\u001b[1;33m.\u001b[0m\u001b[0msplit\u001b[0m\u001b[1;33m(\u001b[0m\u001b[1;34m'-'\u001b[0m\u001b[1;33m)\u001b[0m\u001b[1;33m[\u001b[0m\u001b[1;36m0\u001b[0m\u001b[1;33m]\u001b[0m\u001b[1;33m)\u001b[0m\u001b[1;33m)\u001b[0m\u001b[1;33m\u001b[0m\u001b[1;33m\u001b[0m\u001b[0m\n\u001b[0m\u001b[0;32m      3\u001b[0m \u001b[0minitData\u001b[0m\u001b[1;33m[\u001b[0m\u001b[1;34m'half'\u001b[0m\u001b[1;33m]\u001b[0m\u001b[1;33m=\u001b[0m\u001b[0minitData\u001b[0m\u001b[1;33m[\u001b[0m\u001b[1;34m'year'\u001b[0m\u001b[1;33m]\u001b[0m\u001b[1;33m//\u001b[0m\u001b[1;36m50\u001b[0m\u001b[1;33m*\u001b[0m\u001b[1;36m50\u001b[0m\u001b[1;33m\u001b[0m\u001b[1;33m\u001b[0m\u001b[0m\n\u001b[0;32m      4\u001b[0m \u001b[0myear_series\u001b[0m\u001b[1;33m=\u001b[0m\u001b[0minitData\u001b[0m\u001b[1;33m[\u001b[0m\u001b[1;34m'year'\u001b[0m\u001b[1;33m]\u001b[0m\u001b[1;33m\u001b[0m\u001b[1;33m\u001b[0m\u001b[0m\n\u001b[0;32m      5\u001b[0m \u001b[0minitData\u001b[0m \u001b[1;33m=\u001b[0m \u001b[0minitData\u001b[0m\u001b[1;33m.\u001b[0m\u001b[0mdrop\u001b[0m\u001b[1;33m(\u001b[0m\u001b[0mcolumns\u001b[0m \u001b[1;33m=\u001b[0m \u001b[1;33m[\u001b[0m\u001b[1;34m'youngsMod'\u001b[0m\u001b[1;33m,\u001b[0m\u001b[1;34m'Unnamed: 0'\u001b[0m\u001b[1;33m,\u001b[0m \u001b[1;34m'sec_calcMass'\u001b[0m\u001b[1;33m,\u001b[0m \u001b[1;34m'sec_massRec'\u001b[0m\u001b[1;33m,\u001b[0m \u001b[1;34m'publisher'\u001b[0m\u001b[1;33m,\u001b[0m\u001b[1;34m'half'\u001b[0m\u001b[1;33m,\u001b[0m \u001b[1;34m'year'\u001b[0m\u001b[1;33m,\u001b[0m \u001b[1;34m'ph'\u001b[0m\u001b[1;33m]\u001b[0m\u001b[1;33m)\u001b[0m\u001b[1;33m\u001b[0m\u001b[1;33m\u001b[0m\u001b[0m\n",
      "\u001b[1;32m~\\miniconda3\\lib\\site-packages\\pandas\\core\\series.py\u001b[0m in \u001b[0;36mapply\u001b[1;34m(self, func, convert_dtype, args, **kwds)\u001b[0m\n\u001b[0;32m   4106\u001b[0m             \u001b[1;32melse\u001b[0m\u001b[1;33m:\u001b[0m\u001b[1;33m\u001b[0m\u001b[1;33m\u001b[0m\u001b[0m\n\u001b[0;32m   4107\u001b[0m                 \u001b[0mvalues\u001b[0m \u001b[1;33m=\u001b[0m \u001b[0mself\u001b[0m\u001b[1;33m.\u001b[0m\u001b[0mastype\u001b[0m\u001b[1;33m(\u001b[0m\u001b[0mobject\u001b[0m\u001b[1;33m)\u001b[0m\u001b[1;33m.\u001b[0m\u001b[0m_values\u001b[0m\u001b[1;33m\u001b[0m\u001b[1;33m\u001b[0m\u001b[0m\n\u001b[1;32m-> 4108\u001b[1;33m                 \u001b[0mmapped\u001b[0m \u001b[1;33m=\u001b[0m \u001b[0mlib\u001b[0m\u001b[1;33m.\u001b[0m\u001b[0mmap_infer\u001b[0m\u001b[1;33m(\u001b[0m\u001b[0mvalues\u001b[0m\u001b[1;33m,\u001b[0m \u001b[0mf\u001b[0m\u001b[1;33m,\u001b[0m \u001b[0mconvert\u001b[0m\u001b[1;33m=\u001b[0m\u001b[0mconvert_dtype\u001b[0m\u001b[1;33m)\u001b[0m\u001b[1;33m\u001b[0m\u001b[1;33m\u001b[0m\u001b[0m\n\u001b[0m\u001b[0;32m   4109\u001b[0m \u001b[1;33m\u001b[0m\u001b[0m\n\u001b[0;32m   4110\u001b[0m         \u001b[1;32mif\u001b[0m \u001b[0mlen\u001b[0m\u001b[1;33m(\u001b[0m\u001b[0mmapped\u001b[0m\u001b[1;33m)\u001b[0m \u001b[1;32mand\u001b[0m \u001b[0misinstance\u001b[0m\u001b[1;33m(\u001b[0m\u001b[0mmapped\u001b[0m\u001b[1;33m[\u001b[0m\u001b[1;36m0\u001b[0m\u001b[1;33m]\u001b[0m\u001b[1;33m,\u001b[0m \u001b[0mSeries\u001b[0m\u001b[1;33m)\u001b[0m\u001b[1;33m:\u001b[0m\u001b[1;33m\u001b[0m\u001b[1;33m\u001b[0m\u001b[0m\n",
      "\u001b[1;32mpandas\\_libs\\lib.pyx\u001b[0m in \u001b[0;36mpandas._libs.lib.map_infer\u001b[1;34m()\u001b[0m\n",
      "\u001b[1;32m<ipython-input-3-9cc6a14a1db7>\u001b[0m in \u001b[0;36m<lambda>\u001b[1;34m(x)\u001b[0m\n\u001b[0;32m      1\u001b[0m \u001b[0minitData\u001b[0m \u001b[1;33m=\u001b[0m \u001b[0mpd\u001b[0m\u001b[1;33m.\u001b[0m\u001b[0mread_csv\u001b[0m\u001b[1;33m(\u001b[0m\u001b[1;34m\"publisher_analysis_data.csv\"\u001b[0m\u001b[1;33m)\u001b[0m\u001b[1;33m\u001b[0m\u001b[1;33m\u001b[0m\u001b[0m\n\u001b[1;32m----> 2\u001b[1;33m \u001b[0minitData\u001b[0m\u001b[1;33m[\u001b[0m\u001b[1;34m'year'\u001b[0m\u001b[1;33m]\u001b[0m \u001b[1;33m=\u001b[0m \u001b[0minitData\u001b[0m\u001b[1;33m[\u001b[0m\u001b[1;34m'year'\u001b[0m\u001b[1;33m]\u001b[0m\u001b[1;33m.\u001b[0m\u001b[0mapply\u001b[0m\u001b[1;33m(\u001b[0m\u001b[1;32mlambda\u001b[0m \u001b[0mx\u001b[0m\u001b[1;33m:\u001b[0m \u001b[0mint\u001b[0m\u001b[1;33m(\u001b[0m\u001b[0mx\u001b[0m\u001b[1;33m.\u001b[0m\u001b[0msplit\u001b[0m\u001b[1;33m(\u001b[0m\u001b[1;34m'-'\u001b[0m\u001b[1;33m)\u001b[0m\u001b[1;33m[\u001b[0m\u001b[1;36m0\u001b[0m\u001b[1;33m]\u001b[0m\u001b[1;33m)\u001b[0m\u001b[1;33m)\u001b[0m\u001b[1;33m\u001b[0m\u001b[1;33m\u001b[0m\u001b[0m\n\u001b[0m\u001b[0;32m      3\u001b[0m \u001b[0minitData\u001b[0m\u001b[1;33m[\u001b[0m\u001b[1;34m'half'\u001b[0m\u001b[1;33m]\u001b[0m\u001b[1;33m=\u001b[0m\u001b[0minitData\u001b[0m\u001b[1;33m[\u001b[0m\u001b[1;34m'year'\u001b[0m\u001b[1;33m]\u001b[0m\u001b[1;33m//\u001b[0m\u001b[1;36m50\u001b[0m\u001b[1;33m*\u001b[0m\u001b[1;36m50\u001b[0m\u001b[1;33m\u001b[0m\u001b[1;33m\u001b[0m\u001b[0m\n\u001b[0;32m      4\u001b[0m \u001b[0myear_series\u001b[0m\u001b[1;33m=\u001b[0m\u001b[0minitData\u001b[0m\u001b[1;33m[\u001b[0m\u001b[1;34m'year'\u001b[0m\u001b[1;33m]\u001b[0m\u001b[1;33m\u001b[0m\u001b[1;33m\u001b[0m\u001b[0m\n\u001b[0;32m      5\u001b[0m \u001b[0minitData\u001b[0m \u001b[1;33m=\u001b[0m \u001b[0minitData\u001b[0m\u001b[1;33m.\u001b[0m\u001b[0mdrop\u001b[0m\u001b[1;33m(\u001b[0m\u001b[0mcolumns\u001b[0m \u001b[1;33m=\u001b[0m \u001b[1;33m[\u001b[0m\u001b[1;34m'youngsMod'\u001b[0m\u001b[1;33m,\u001b[0m\u001b[1;34m'Unnamed: 0'\u001b[0m\u001b[1;33m,\u001b[0m \u001b[1;34m'sec_calcMass'\u001b[0m\u001b[1;33m,\u001b[0m \u001b[1;34m'sec_massRec'\u001b[0m\u001b[1;33m,\u001b[0m \u001b[1;34m'publisher'\u001b[0m\u001b[1;33m,\u001b[0m\u001b[1;34m'half'\u001b[0m\u001b[1;33m,\u001b[0m \u001b[1;34m'year'\u001b[0m\u001b[1;33m,\u001b[0m \u001b[1;34m'ph'\u001b[0m\u001b[1;33m]\u001b[0m\u001b[1;33m)\u001b[0m\u001b[1;33m\u001b[0m\u001b[1;33m\u001b[0m\u001b[0m\n",
      "\u001b[1;31mAttributeError\u001b[0m: 'float' object has no attribute 'split'"
     ]
    }
   ],
   "source": [
    "initData = pd.read_csv(\"publisher_analysis_data.csv\")\n",
    "initData['year'] = initData['year'].apply(lambda x: int(x.split('-')[0]))\n",
    "initData['half']=initData['year']//50*50\n",
    "year_series=initData['year']\n",
    "initData = initData.drop(columns = ['youngsMod','Unnamed: 0', 'sec_calcMass', 'sec_massRec', 'publisher','half', 'year', 'ph'])\n",
    "initData = initData.dropna()\n",
    "print(initData.shape)\n",
    "initData.head()"
   ]
  },
  {
   "cell_type": "markdown",
   "id": "planned-announcement",
   "metadata": {},
   "source": [
    "# BUILDING PCA MODEL"
   ]
  },
  {
   "cell_type": "code",
   "execution_count": null,
   "id": "whole-radar",
   "metadata": {},
   "outputs": [],
   "source": [
    "import sklearn\n",
    "from sklearn.preprocessing import StandardScaler\n",
    "from sklearn.preprocessing import Normalizer\n",
    "from sklearn.decomposition import PCA\n",
    "from sklearn.pipeline import Pipeline\n",
    "\n",
    "pca = PCA(n_components=3)\n",
    "pipeline = Pipeline([\n",
    "    ('scaling', StandardScaler()), ('normalize', Normalizer())  \n",
    "])"
   ]
  },
  {
   "cell_type": "code",
   "execution_count": null,
   "id": "stunning-display",
   "metadata": {},
   "outputs": [],
   "source": [
    "initData_columnNames= initData.columns\n",
    "initData_columnNames"
   ]
  },
  {
   "cell_type": "code",
   "execution_count": null,
   "id": "economic-compiler",
   "metadata": {},
   "outputs": [],
   "source": [
    "scaleNormPipe = pipeline.fit_transform(initData)\n",
    "pca_df = pd.DataFrame(data = scaleNormPipe, columns = initData_columnNames)\n",
    "pca_df.head()"
   ]
  },
  {
   "cell_type": "markdown",
   "id": "contemporary-bidder",
   "metadata": {},
   "source": [
    "## PCA"
   ]
  },
  {
   "cell_type": "code",
   "execution_count": null,
   "id": "endless-coverage",
   "metadata": {},
   "outputs": [],
   "source": [
    "from sklearn.model_selection import train_test_split\n",
    "# \"target\" contains the column name of the classification labels\n",
    "target = \"sec_Mw\"\n",
    "\n",
    "X = pca_df.drop(target, 1)\n",
    "y = pca_df[target]\n",
    "\n",
    "# seed = 7\n",
    "# test_size = 0.33\n",
    "# X_train, X_test, y_train, y_test = train_test_split(X, y, test_size=test_size, random_state=seed)"
   ]
  },
  {
   "cell_type": "code",
   "execution_count": null,
   "id": "abandoned-hepatitis",
   "metadata": {},
   "outputs": [],
   "source": [
    "##Transforming Data to Standard Scaler\n",
    "pca_train = pipeline.fit_transform(X)\n",
    "# pca_test = pipeline.transform(X_test)\n",
    "\n",
    "##Taking Scaled Data and Applying PCA\n",
    "pca_train = pca.fit_transform(pca_train)\n",
    "# pca_test = pca.transform(pca_test)\n",
    "\n",
    "##Putting Principal Component Data into Train & Test Dataframes\n",
    "pca_train_df = pd.DataFrame(data = pca_train, columns = ['PC1', 'PC2', 'PC3'])\n",
    "# pca_test_df = pd.DataFrame(data = pca_test, columns = ['PC1', 'PC2','PC3'])"
   ]
  },
  {
   "cell_type": "code",
   "execution_count": null,
   "id": "arctic-maldives",
   "metadata": {},
   "outputs": [],
   "source": [
    "##Explained Variance\n",
    "explained_variance = pca.explained_variance_ratio_\n",
    "explained_variance"
   ]
  },
  {
   "cell_type": "code",
   "execution_count": null,
   "id": "medieval-amateur",
   "metadata": {},
   "outputs": [],
   "source": [
    "PCAs_Mw = pd.concat([pca_train_df,y], axis = 1)\n",
    "PCAs_Mw"
   ]
  },
  {
   "cell_type": "code",
   "execution_count": null,
   "id": "occasional-compensation",
   "metadata": {},
   "outputs": [],
   "source": [
    "y_pca=pd.concat([PCAs_Mw,year_series], axis = 1)"
   ]
  },
  {
   "cell_type": "code",
   "execution_count": null,
   "id": "beautiful-refund",
   "metadata": {},
   "outputs": [],
   "source": [
    "# ##Appending Our Target Parameter, sec_Mw Onto the Training Principal Component Dataframe\n",
    "# target = pd.Series(y_train, name='sec_Mw')\n",
    "# result_df_train = pd.concat([pca_train_df, target], axis=1)\n",
    "# result_df_train.head()\n",
    "# result_df_test = pd.concat([pca_test_df, y_test], axis=1)\n",
    "# result_df_test"
   ]
  },
  {
   "cell_type": "markdown",
   "id": "surprised-logan",
   "metadata": {},
   "source": [
    "## SCATTER PLOT"
   ]
  },
  {
   "cell_type": "code",
   "execution_count": null,
   "id": "genuine-resource",
   "metadata": {},
   "outputs": [],
   "source": [
    "# sns.scatterplot(data=PCAs_Mw, x='PC1', y='PC2', hue=year_series, palette='deep')\n",
    "sns.scatterplot(data=y_pca, x='PC1', y='PC2', hue=year_series, palette='deep')\n",
    "\n",
    "#year_series"
   ]
  },
  {
   "cell_type": "code",
   "execution_count": null,
   "id": "amino-eugene",
   "metadata": {},
   "outputs": [],
   "source": [
    "fig, ax = plt.subplots(figsize=(7,7))\n",
    "sns.scatterplot(data=PCAs_Mw, x='PC1', y='PC3', hue='sec_Mw', palette=\"ch:s=.25,rot=-.25\", alpha=0.7)\n",
    "plt.show()\n",
    "\n",
    "fig, ax = plt.subplots(figsize=(7,7))\n",
    "sns.scatterplot(data=PCAs_Mw, x='PC2', y='PC3', hue='sec_Mw', palette=\"ch:s=.25,rot=-.25\", alpha=0.7)\n",
    "plt.show()\n",
    "\n",
    "fig, ax = plt.subplots(figsize=(7,7))\n",
    "sns.scatterplot(data=PCAs_Mw, x='PC1', y='PC2', hue='sec_Mw', palette=\"ch:s=.25,rot=-.25\", alpha=0.7)\n",
    "plt.show()"
   ]
  },
  {
   "cell_type": "code",
   "execution_count": null,
   "id": "statistical-racing",
   "metadata": {
    "scrolled": false
   },
   "outputs": [],
   "source": [
    "fig, ax = plt.subplots(figsize=(7,7))\n",
    "sns.scatterplot(data=PCAs_Mw, x='PC1', y='PC2', hue=year_series, palette=\"ch:s=.25,rot=-.25\", alpha=0.7)\n",
    "plt.legend(title=\"Fifty Year Buckets\")\n",
    "plt.show()\n",
    "\n",
    "fig, ax = plt.subplots(figsize=(7,7))\n",
    "sns.scatterplot(data=PCAs_Mw, x='PC2', y='PC3', hue=year_series, palette=\"ch:s=.25,rot=-.25\", alpha=0.7)\n",
    "plt.legend(title=\"Fifty Year Buckets\")\n",
    "plt.show()\n",
    "\n",
    "fig, ax = plt.subplots(figsize=(7,7))\n",
    "sns.scatterplot(data=PCAs_Mw, x='PC1', y='PC3', hue=year_series, palette=\"ch:s=.25,rot=-.25\", alpha=0.7)\n",
    "plt.legend(title=\"Fifty Year Buckets\")\n",
    "plt.show()"
   ]
  },
  {
   "cell_type": "code",
   "execution_count": null,
   "id": "warming-texture",
   "metadata": {},
   "outputs": [],
   "source": [
    "fig, ax = plt.subplots(figsize=(7,7))\n",
    "sns.scatterplot(data=PCAs_Mw, y='PC1', x='sec_Mw', alpha=0.7)\n",
    "plt.show()\n",
    "\n",
    "fig, ax = plt.subplots(figsize=(7,7))\n",
    "sns.scatterplot(data=PCAs_Mw, y='PC2', x='sec_Mw', alpha=0.7)\n",
    "plt.show()\n",
    "\n",
    "fig, ax = plt.subplots(figsize=(7,7))\n",
    "sns.scatterplot(data=PCAs_Mw, y='PC3', x='sec_Mw', alpha=0.7)\n",
    "plt.show()"
   ]
  },
  {
   "cell_type": "code",
   "execution_count": null,
   "id": "animal-graphic",
   "metadata": {},
   "outputs": [],
   "source": [
    "#fig, ax = plt.subplots(figsize=(7,7))\n",
    "sns.lmplot(data=PCAs_Mw, y='PC1', x='sec_Mw')\n",
    "#plt.show()\n",
    "\n",
    "#fig, ax = plt.subplots(figsize=(7,7))\n",
    "sns.lmplot(data=PCAs_Mw, y='PC2', x='sec_Mw')\n",
    "#plt.show()\n",
    "\n",
    "#fig, ax = plt.subplots(figsize=(7,7))\n",
    "sns.lmplot(data=PCAs_Mw, y='PC3', x='sec_Mw')\n",
    "#plt.show()"
   ]
  },
  {
   "cell_type": "markdown",
   "id": "solved-equity",
   "metadata": {},
   "source": [
    "# Scree code"
   ]
  },
  {
   "cell_type": "code",
   "execution_count": null,
   "id": "metallic-morocco",
   "metadata": {},
   "outputs": [],
   "source": []
  },
  {
   "cell_type": "code",
   "execution_count": null,
   "id": "acquired-concentration",
   "metadata": {},
   "outputs": [],
   "source": [
    "screePipe = pipeline.fit_transform(initData)\n",
    "scree_pca = PCA(n_components=5)"
   ]
  },
  {
   "cell_type": "code",
   "execution_count": null,
   "id": "accessory-error",
   "metadata": {},
   "outputs": [],
   "source": [
    "screeFitTransf=scree_pca.fit_transform(screePipe)"
   ]
  },
  {
   "cell_type": "code",
   "execution_count": null,
   "id": "proud-modeling",
   "metadata": {},
   "outputs": [],
   "source": [
    "screeFitTransf"
   ]
  },
  {
   "cell_type": "code",
   "execution_count": null,
   "id": "caring-annotation",
   "metadata": {},
   "outputs": [],
   "source": [
    "scree_df = pd.DataFrame(data = screeFitTransf, columns = ['PC 1', 'PC 2', 'PC 3', 'PC 4', 'PC 5'])"
   ]
  },
  {
   "cell_type": "code",
   "execution_count": null,
   "id": "known-receipt",
   "metadata": {},
   "outputs": [],
   "source": [
    "scree_df.head()"
   ]
  },
  {
   "cell_type": "markdown",
   "id": "sublime-boston",
   "metadata": {},
   "source": [
    "## SCREE PLOT"
   ]
  },
  {
   "cell_type": "code",
   "execution_count": null,
   "id": "mediterranean-clinic",
   "metadata": {},
   "outputs": [],
   "source": [
    "import matplotlib.pyplot as plt\n",
    "\n",
    "scree_PC_Values = np.arange(scree_pca.n_components_) + 1\n",
    "plt.plot(scree_PC_Values, np.square(scree_pca.explained_variance_ratio_), 'ro-', linewidth=2)\n",
    "###We transformed the scree plot by squaring the variance explained to make the \"ideal\" PC more apparent\n",
    "plt.title('Scree Plot')\n",
    "plt.xlabel('Principal Component')\n",
    "plt.ylabel('Proportion of Variance Explained\\n(transformed, squared)')\n",
    "plt.show()"
   ]
  },
  {
   "cell_type": "code",
   "execution_count": null,
   "id": "seeing-catalyst",
   "metadata": {},
   "outputs": [],
   "source": []
  }
 ],
 "metadata": {
  "kernelspec": {
   "display_name": "Python 3",
   "language": "python",
   "name": "python3"
  },
  "language_info": {
   "codemirror_mode": {
    "name": "ipython",
    "version": 3
   },
   "file_extension": ".py",
   "mimetype": "text/x-python",
   "name": "python",
   "nbconvert_exporter": "python",
   "pygments_lexer": "ipython3",
   "version": "3.8.5"
  }
 },
 "nbformat": 4,
 "nbformat_minor": 5
}
