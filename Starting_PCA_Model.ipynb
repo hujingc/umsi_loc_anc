{
 "cells": [
  {
   "cell_type": "markdown",
   "id": "valid-landscape",
   "metadata": {},
   "source": [
    "# PCA MODEL"
   ]
  },
  {
   "cell_type": "code",
   "execution_count": null,
   "id": "experienced-logistics",
   "metadata": {},
   "outputs": [],
   "source": [
    "#####Links Used:\n",
    "#https://www.datacamp.com/community/tutorials/principal-component-analysis-in-python\n",
    "#https://towardsdatascience.com/pca-using-python-scikit-learn-e653f8989e60\n",
    "#https://www.datasklr.com/principal-component-analysis-and-factor-analysis/principal-component-analysis\n",
    "#https://cmdlinetips.com/2018/03/pca-example-in-python-with-scikit-learn/\n",
    "#https://stackoverflow.com/questions/39216897/plot-pca-loadings-and-loading-in-biplot-in-sklearn-like-rs-autoplot\n",
    "\n",
    "##WHEN WE START TRAIN/TEST SPLIT REF.: https://stackabuse.com/implementing-pca-in-python-with-scikit-learn/"
   ]
  },
  {
   "cell_type": "markdown",
   "id": "arabic-hearing",
   "metadata": {},
   "source": [
    "# LOADING DATA"
   ]
  },
  {
   "cell_type": "code",
   "execution_count": 2,
   "id": "homeless-pearl",
   "metadata": {},
   "outputs": [],
   "source": [
    "import pandas as pd\n",
    "import numpy as np\n",
    "import seaborn as sns\n",
    "import matplotlib.pyplot as plt"
   ]
  },
  {
   "cell_type": "code",
   "execution_count": 3,
   "id": "clear-leadership",
   "metadata": {
    "scrolled": true
   },
   "outputs": [
    {
     "data": {
      "text/html": [
       "<div>\n",
       "<style scoped>\n",
       "    .dataframe tbody tr th:only-of-type {\n",
       "        vertical-align: middle;\n",
       "    }\n",
       "\n",
       "    .dataframe tbody tr th {\n",
       "        vertical-align: top;\n",
       "    }\n",
       "\n",
       "    .dataframe thead th {\n",
       "        text-align: right;\n",
       "    }\n",
       "</style>\n",
       "<table border=\"1\" class=\"dataframe\">\n",
       "  <thead>\n",
       "    <tr style=\"text-align: right;\">\n",
       "      <th></th>\n",
       "      <th>Unnamed: 0</th>\n",
       "      <th>maxLoad</th>\n",
       "      <th>stressMaxLoad</th>\n",
       "      <th>strainMaxLoad</th>\n",
       "      <th>energyAbsorp</th>\n",
       "      <th>youngsMod</th>\n",
       "      <th>ph</th>\n",
       "      <th>sec_Mn</th>\n",
       "      <th>sec_Mw</th>\n",
       "      <th>sec_polyDisp</th>\n",
       "      <th>sec_calcMass</th>\n",
       "      <th>sec_massRec</th>\n",
       "      <th>year</th>\n",
       "      <th>publisher</th>\n",
       "    </tr>\n",
       "  </thead>\n",
       "  <tbody>\n",
       "    <tr>\n",
       "      <th>0</th>\n",
       "      <td>0</td>\n",
       "      <td>34.670</td>\n",
       "      <td>28.7790</td>\n",
       "      <td>0.051118</td>\n",
       "      <td>0.072340</td>\n",
       "      <td>2274.6</td>\n",
       "      <td>5.065</td>\n",
       "      <td>44.1</td>\n",
       "      <td>127.6</td>\n",
       "      <td>2.890</td>\n",
       "      <td>22.45</td>\n",
       "      <td>71.9</td>\n",
       "      <td>1840-01-01</td>\n",
       "      <td>sumptibus Societatis Camdenensis</td>\n",
       "    </tr>\n",
       "    <tr>\n",
       "      <th>1</th>\n",
       "      <td>1</td>\n",
       "      <td>12.710</td>\n",
       "      <td>9.7289</td>\n",
       "      <td>0.030050</td>\n",
       "      <td>0.023396</td>\n",
       "      <td>1416.2</td>\n",
       "      <td>4.830</td>\n",
       "      <td>35.9</td>\n",
       "      <td>85.4</td>\n",
       "      <td>2.377</td>\n",
       "      <td>10.53</td>\n",
       "      <td>23.4</td>\n",
       "      <td>1840-01-01</td>\n",
       "      <td>Printed for the Camden Society, by J.B. Nichol...</td>\n",
       "    </tr>\n",
       "    <tr>\n",
       "      <th>2</th>\n",
       "      <td>2</td>\n",
       "      <td>17.301</td>\n",
       "      <td>13.5850</td>\n",
       "      <td>0.034793</td>\n",
       "      <td>0.034683</td>\n",
       "      <td>2083.7</td>\n",
       "      <td>5.207</td>\n",
       "      <td>20.1</td>\n",
       "      <td>93.4</td>\n",
       "      <td>4.653</td>\n",
       "      <td>20.54</td>\n",
       "      <td>65.8</td>\n",
       "      <td>1842-01-01</td>\n",
       "      <td>Printed for the Camden Society, by J.B. Nichol...</td>\n",
       "    </tr>\n",
       "    <tr>\n",
       "      <th>3</th>\n",
       "      <td>3</td>\n",
       "      <td>25.879</td>\n",
       "      <td>21.3200</td>\n",
       "      <td>0.044734</td>\n",
       "      <td>0.057662</td>\n",
       "      <td>2015.6</td>\n",
       "      <td>5.165</td>\n",
       "      <td>29.5</td>\n",
       "      <td>91.2</td>\n",
       "      <td>3.094</td>\n",
       "      <td>6.84</td>\n",
       "      <td>21.9</td>\n",
       "      <td>1843-01-01</td>\n",
       "      <td>Printed for the Camden Society, by J.B. Nichol...</td>\n",
       "    </tr>\n",
       "    <tr>\n",
       "      <th>4</th>\n",
       "      <td>4</td>\n",
       "      <td>14.901</td>\n",
       "      <td>16.1320</td>\n",
       "      <td>0.047622</td>\n",
       "      <td>0.036076</td>\n",
       "      <td>1798.6</td>\n",
       "      <td>6.405</td>\n",
       "      <td>76.8</td>\n",
       "      <td>161.6</td>\n",
       "      <td>2.105</td>\n",
       "      <td>7.92</td>\n",
       "      <td>25.4</td>\n",
       "      <td>1844-01-01</td>\n",
       "      <td>J. Winchester</td>\n",
       "    </tr>\n",
       "  </tbody>\n",
       "</table>\n",
       "</div>"
      ],
      "text/plain": [
       "   Unnamed: 0  maxLoad  stressMaxLoad  strainMaxLoad  energyAbsorp  youngsMod  \\\n",
       "0           0   34.670        28.7790       0.051118      0.072340     2274.6   \n",
       "1           1   12.710         9.7289       0.030050      0.023396     1416.2   \n",
       "2           2   17.301        13.5850       0.034793      0.034683     2083.7   \n",
       "3           3   25.879        21.3200       0.044734      0.057662     2015.6   \n",
       "4           4   14.901        16.1320       0.047622      0.036076     1798.6   \n",
       "\n",
       "      ph  sec_Mn  sec_Mw  sec_polyDisp  sec_calcMass  sec_massRec        year  \\\n",
       "0  5.065    44.1   127.6         2.890         22.45         71.9  1840-01-01   \n",
       "1  4.830    35.9    85.4         2.377         10.53         23.4  1840-01-01   \n",
       "2  5.207    20.1    93.4         4.653         20.54         65.8  1842-01-01   \n",
       "3  5.165    29.5    91.2         3.094          6.84         21.9  1843-01-01   \n",
       "4  6.405    76.8   161.6         2.105          7.92         25.4  1844-01-01   \n",
       "\n",
       "                                           publisher  \n",
       "0                   sumptibus Societatis Camdenensis  \n",
       "1  Printed for the Camden Society, by J.B. Nichol...  \n",
       "2  Printed for the Camden Society, by J.B. Nichol...  \n",
       "3  Printed for the Camden Society, by J.B. Nichol...  \n",
       "4                                      J. Winchester  "
      ]
     },
     "execution_count": 3,
     "metadata": {},
     "output_type": "execute_result"
    }
   ],
   "source": [
    "initData = pd.read_csv(\"publisher_analysis_data.csv\")\n",
    "initData.head()"
   ]
  },
  {
   "cell_type": "code",
   "execution_count": 4,
   "id": "central-symposium",
   "metadata": {},
   "outputs": [
    {
     "data": {
      "text/plain": [
       "(957, 14)"
      ]
     },
     "execution_count": 4,
     "metadata": {},
     "output_type": "execute_result"
    }
   ],
   "source": [
    "initData.shape"
   ]
  },
  {
   "cell_type": "code",
   "execution_count": 5,
   "id": "irish-regular",
   "metadata": {},
   "outputs": [],
   "source": [
    "initData = initData.drop(columns = ['youngsMod','Unnamed: 0', 'sec_calcMass', 'sec_massRec', 'publisher'])"
   ]
  },
  {
   "cell_type": "code",
   "execution_count": 6,
   "id": "animated-calgary",
   "metadata": {},
   "outputs": [
    {
     "data": {
      "text/plain": [
       "(957, 9)"
      ]
     },
     "execution_count": 6,
     "metadata": {},
     "output_type": "execute_result"
    }
   ],
   "source": [
    "initData = initData.dropna()\n",
    "initData.shape"
   ]
  },
  {
   "cell_type": "code",
   "execution_count": null,
   "id": "strange-business",
   "metadata": {},
   "outputs": [],
   "source": []
  },
  {
   "cell_type": "code",
   "execution_count": null,
   "id": "functional-catch",
   "metadata": {},
   "outputs": [],
   "source": []
  },
  {
   "cell_type": "markdown",
   "id": "dying-segment",
   "metadata": {},
   "source": [
    "# BUILDING PCA MODEL"
   ]
  },
  {
   "cell_type": "code",
   "execution_count": null,
   "id": "demographic-bowling",
   "metadata": {},
   "outputs": [],
   "source": [
    "import sklearn\n",
    "from sklearn.preprocessing import StandardScaler\n",
    "from sklearn.preprocessing import Normalizer\n",
    "from sklearn.decomposition import PCA\n",
    "from sklearn.pipeline import Pipeline\n",
    "\n",
    "pca = PCA(n_components=3)"
   ]
  },
  {
   "cell_type": "code",
   "execution_count": null,
   "id": "changed-hotel",
   "metadata": {},
   "outputs": [],
   "source": [
    "initData_columnNames= initData.columns\n",
    "initData_columnNames"
   ]
  },
  {
   "cell_type": "code",
   "execution_count": null,
   "id": "differential-absence",
   "metadata": {},
   "outputs": [],
   "source": [
    "pipeline = Pipeline([\n",
    "    ('scaling', StandardScaler()), ('normalize', Normalizer())  \n",
    "])"
   ]
  },
  {
   "cell_type": "code",
   "execution_count": null,
   "id": "dedicated-survivor",
   "metadata": {},
   "outputs": [],
   "source": [
    "scaleNormPipe = pipeline.fit_transform(initData)"
   ]
  },
  {
   "cell_type": "code",
   "execution_count": null,
   "id": "recognized-irrigation",
   "metadata": {},
   "outputs": [],
   "source": [
    "pca_df = pd.DataFrame(data = scaleNormPipe, columns = initData_columnNames)\n",
    "pca_df.head()"
   ]
  },
  {
   "cell_type": "markdown",
   "id": "protected-advantage",
   "metadata": {},
   "source": [
    "## TRAIN, TEST SPLIT"
   ]
  },
  {
   "cell_type": "code",
   "execution_count": null,
   "id": "understood-title",
   "metadata": {},
   "outputs": [],
   "source": [
    "from sklearn.model_selection import train_test_split\n",
    "# \"target\" contains the column name of the classification labels\n",
    "target = \"sec_Mw\"\n",
    "\n",
    "X = pca_df.drop(target,1)\n",
    "y = pca_df[target]\n",
    "\n",
    "seed = 7\n",
    "test_size = 0.33\n",
    "X_train, X_test, y_train, y_test = train_test_split(X, y, test_size=test_size, random_state=seed)"
   ]
  },
  {
   "cell_type": "code",
   "execution_count": null,
   "id": "broke-thriller",
   "metadata": {},
   "outputs": [],
   "source": [
    "y"
   ]
  },
  {
   "cell_type": "code",
   "execution_count": null,
   "id": "aggregate-offer",
   "metadata": {},
   "outputs": [],
   "source": [
    "from sklearn.tree import DecisionTreeClassifier\n",
    "from sklearn.model_selection import train_test_split\n",
    "from sklearn.metrics import accuracy_score, roc_auc_score\n",
    "\n",
    "# Train, test splits\n",
    "X_train, X_test, y_train, y_test = train_test_split(X, y, test_size=.3, \n",
    "                                                    stratify=y, \n",
    "                                                    random_state=42)\n",
    "\n",
    "# Decision trees with depth = 2\n",
    "clf = DecisionTreeClassifier(max_depth=2, random_state=42)\n",
    "clf.fit(X_train, y_train)\n",
    "preds = clf.predict_proba(X_test)\n",
    "print('Accuracy: {:.5f}'.format(accuracy_score(y_test, \n",
    "                                                preds.argmax(axis=1))))"
   ]
  },
  {
   "cell_type": "code",
   "execution_count": null,
   "id": "postal-training",
   "metadata": {},
   "outputs": [],
   "source": [
    "import numpy as np\n",
    "import matplotlib.pyplot as plt\n",
    "import seaborn as sns; sns.set(style='white')\n",
    "%matplotlib inline\n",
    "%config InlineBackend.figure_format = 'retina'\n",
    "from sklearn import decomposition\n",
    "from sklearn import datasets\n",
    "from mpl_toolkits.mplot3d import Axes3D\n",
    "\n",
    "# Loading the dataset\n",
    "iris = datasets.load_iris()\n",
    "X = iris.data\n",
    "y = iris.target\n",
    "\n",
    "# Let's create a beautiful 3d-plot\n",
    "fig = plt.figure(1, figsize=(6, 5))\n",
    "plt.clf()\n",
    "ax = Axes3D(fig, rect=[0, 0, .95, 1], elev=48, azim=134)\n",
    "\n",
    "plt.cla()\n",
    "\n",
    "for name, label in [('Setosa', 0), ('Versicolour', 1), ('Virginica', 2)]:\n",
    "    ax.text3D(X[y == label, 0].mean(),\n",
    "              X[y == label, 1].mean() + 1.5,\n",
    "              X[y == label, 2].mean(), name,\n",
    "              horizontalalignment='center',\n",
    "              bbox=dict(alpha=.5, edgecolor='w', facecolor='w'))\n",
    "# Change the order of labels, so that they match\n",
    "y_clr = np.choose(y, [1, 2, 0]).astype(np.float)\n",
    "ax.scatter(X[:, 0], X[:, 1], X[:, 2], c=y_clr, \n",
    "           cmap=plt.cm.nipy_spectral)\n",
    "\n",
    "ax.w_xaxis.set_ticklabels([])\n",
    "ax.w_yaxis.set_ticklabels([])\n",
    "ax.w_zaxis.set_ticklabels([]);"
   ]
  },
  {
   "cell_type": "code",
   "execution_count": null,
   "id": "confidential-contributor",
   "metadata": {},
   "outputs": [],
   "source": [
    "y"
   ]
  },
  {
   "cell_type": "code",
   "execution_count": null,
   "id": "earlier-service",
   "metadata": {},
   "outputs": [],
   "source": []
  },
  {
   "cell_type": "code",
   "execution_count": null,
   "id": "configured-kennedy",
   "metadata": {},
   "outputs": [],
   "source": []
  },
  {
   "cell_type": "code",
   "execution_count": null,
   "id": "nasty-skill",
   "metadata": {},
   "outputs": [],
   "source": []
  },
  {
   "cell_type": "code",
   "execution_count": null,
   "id": "surgical-namibia",
   "metadata": {},
   "outputs": [],
   "source": []
  },
  {
   "cell_type": "code",
   "execution_count": null,
   "id": "finnish-partition",
   "metadata": {},
   "outputs": [],
   "source": [
    "pca_train = pipeline.fit_transform(X_train)\n",
    "pca_test = pipeline.transform(X_test)"
   ]
  },
  {
   "cell_type": "code",
   "execution_count": null,
   "id": "serious-intersection",
   "metadata": {},
   "outputs": [],
   "source": [
    "pca_train = pca.fit_transform(pca_train)\n",
    "pca_test = pca.transform(pca_test)"
   ]
  },
  {
   "cell_type": "code",
   "execution_count": null,
   "id": "royal-complement",
   "metadata": {},
   "outputs": [],
   "source": [
    "explained_variance = pca.explained_variance_ratio_\n",
    "explained_variance"
   ]
  },
  {
   "cell_type": "code",
   "execution_count": null,
   "id": "functioning-armenia",
   "metadata": {},
   "outputs": [],
   "source": [
    "pca_train_df = pd.DataFrame(data = pca_train, columns = ['PC1', 'PC2', 'PC3'])\n",
    "pca_test_df = pd.DataFrame(data = pca_test, columns = ['PC1', 'PC2','PC3'])\n"
   ]
  },
  {
   "cell_type": "code",
   "execution_count": null,
   "id": "rolled-mercy",
   "metadata": {},
   "outputs": [],
   "source": [
    "target = pd.Series(y_train, name='sec_Mw')\n",
    "result_df_train = pd.concat([pca_train_df, target], axis=1)"
   ]
  },
  {
   "cell_type": "code",
   "execution_count": null,
   "id": "signed-escape",
   "metadata": {},
   "outputs": [],
   "source": [
    "result_df_train.head()"
   ]
  },
  {
   "cell_type": "code",
   "execution_count": null,
   "id": "aggregate-drain",
   "metadata": {},
   "outputs": [],
   "source": [
    "result_df_test = pd.concat([pca_test_df, y], axis=1)"
   ]
  },
  {
   "cell_type": "code",
   "execution_count": null,
   "id": "noble-cursor",
   "metadata": {},
   "outputs": [],
   "source": []
  },
  {
   "cell_type": "markdown",
   "id": "individual-blame",
   "metadata": {},
   "source": [
    "## SCATTER PLOT"
   ]
  },
  {
   "cell_type": "code",
   "execution_count": null,
   "id": "respected-impact",
   "metadata": {},
   "outputs": [],
   "source": [
    "fig = plt.figure(figsize = (12,10))\n",
    "ax = fig.add_subplot(1,1,1) \n",
    "ax.set_xlabel('First Principal Component ', fontsize = 15)\n",
    "ax.set_ylabel('Second Principal Component ', fontsize = 15)\n",
    "ax.set_title('Principal Component Analysis (2PCs) for Iris Dataset', fontsize = 20)\n",
    "\n",
    "targets = [0, 1, 2]\n",
    "colors = ['r', 'g', 'b']\n",
    "for target, color in zip(targets, colors):\n",
    "    print(target)\n",
    "    indicesToKeep = pca_df['sec_Mw'] == target\n",
    "    ax.scatter(result_df_train.loc[indicesToKeep, 'PC1'], \n",
    "               result_df_train.loc[indicesToKeep, 'PC2'], \n",
    "               c = color, \n",
    "               s = 50)\n",
    "ax.legend(targets)\n",
    "ax.grid()"
   ]
  },
  {
   "cell_type": "code",
   "execution_count": null,
   "id": "specialized-kinase",
   "metadata": {},
   "outputs": [],
   "source": [
    "result_df_train"
   ]
  },
  {
   "cell_type": "code",
   "execution_count": null,
   "id": "direct-selling",
   "metadata": {},
   "outputs": [],
   "source": []
  },
  {
   "cell_type": "code",
   "execution_count": null,
   "id": "buried-characteristic",
   "metadata": {},
   "outputs": [],
   "source": []
  },
  {
   "cell_type": "code",
   "execution_count": null,
   "id": "controlled-master",
   "metadata": {},
   "outputs": [],
   "source": []
  },
  {
   "cell_type": "code",
   "execution_count": null,
   "id": "animated-bonus",
   "metadata": {},
   "outputs": [],
   "source": [
    "plt.scatter(pca.components_[0], pca.components_[1], alpha=.1, color='black')\n",
    "plt.xlabel('PCA 1')\n",
    "plt.ylabel('PCA 2')"
   ]
  },
  {
   "cell_type": "code",
   "execution_count": null,
   "id": "pretty-timeline",
   "metadata": {},
   "outputs": [],
   "source": [
    "plt.scatter(pca.components_[1], pca.components_[2], alpha=.1, color='black')\n",
    "plt.xlabel('PCA 2')\n",
    "plt.ylabel('PCA 3')"
   ]
  },
  {
   "cell_type": "code",
   "execution_count": null,
   "id": "coordinated-projection",
   "metadata": {},
   "outputs": [],
   "source": [
    "def labelled_scatterplot(data=None,x=None,y=None): #,labs=None\n",
    "    p1 = sns.scatterplot(data=data,x=x,y=y)\n",
    "    for line in range(0,data.shape[0]):\n",
    "        p1.text(data[x][line]+0.01, data[y][line], \n",
    "                #data[labs][line], horizontalalignment='left', \n",
    "                size='medium', color='black')"
   ]
  },
  {
   "cell_type": "code",
   "execution_count": null,
   "id": "happy-clothing",
   "metadata": {},
   "outputs": [],
   "source": [
    "labelled_scatterplot(data=pca_train_df, x='PC 1',y='PC 2')"
   ]
  },
  {
   "cell_type": "markdown",
   "id": "extra-democrat",
   "metadata": {},
   "source": [
    "# Scree code"
   ]
  },
  {
   "cell_type": "code",
   "execution_count": null,
   "id": "accurate-complement",
   "metadata": {},
   "outputs": [],
   "source": [
    "screePipe = pipeline.fit_transform(initData)\n",
    "scree_pca = PCA(n_components=5)"
   ]
  },
  {
   "cell_type": "code",
   "execution_count": null,
   "id": "international-regulation",
   "metadata": {},
   "outputs": [],
   "source": [
    "screeFitTransf=scree_pca.fit_transform(screePipe)"
   ]
  },
  {
   "cell_type": "code",
   "execution_count": null,
   "id": "treated-responsibility",
   "metadata": {},
   "outputs": [],
   "source": [
    "screeFitTransf"
   ]
  },
  {
   "cell_type": "code",
   "execution_count": null,
   "id": "funded-compression",
   "metadata": {},
   "outputs": [],
   "source": [
    "scree_df = pd.DataFrame(data = screeFitTransf, columns = ['PC 1', 'PC 2', 'PC 3', 'PC 4', 'PC 5'])"
   ]
  },
  {
   "cell_type": "code",
   "execution_count": null,
   "id": "better-trance",
   "metadata": {},
   "outputs": [],
   "source": [
    "scree_df.head()"
   ]
  },
  {
   "cell_type": "markdown",
   "id": "addressed-translator",
   "metadata": {},
   "source": [
    "## SCREE PLOT"
   ]
  },
  {
   "cell_type": "code",
   "execution_count": null,
   "id": "recorded-mentor",
   "metadata": {},
   "outputs": [],
   "source": [
    "import matplotlib.pyplot as plt\n",
    "\n",
    "scree_PC_Values = np.arange(scree_pca.n_components_) + 1\n",
    "plt.plot(scree_PC_Values, np.square(scree_pca.explained_variance_ratio_), 'ro-', linewidth=2)\n",
    "###We transformed the scree plot by squaring the variance explained to make the \"ideal\" PC more apparent\n",
    "plt.title('Scree Plot')\n",
    "plt.xlabel('Principal Component')\n",
    "plt.ylabel('Proportion of Variance Explained\\n(transformed, squared)')\n",
    "plt.show()"
   ]
  },
  {
   "cell_type": "code",
   "execution_count": null,
   "id": "executive-connecticut",
   "metadata": {},
   "outputs": [],
   "source": []
  },
  {
   "cell_type": "code",
   "execution_count": null,
   "id": "visible-baker",
   "metadata": {},
   "outputs": [],
   "source": []
  }
 ],
 "metadata": {
  "kernelspec": {
   "display_name": "Python 3",
   "language": "python",
   "name": "python3"
  },
  "language_info": {
   "codemirror_mode": {
    "name": "ipython",
    "version": 3
   },
   "file_extension": ".py",
   "mimetype": "text/x-python",
   "name": "python",
   "nbconvert_exporter": "python",
   "pygments_lexer": "ipython3",
   "version": "3.8.5"
  }
 },
 "nbformat": 4,
 "nbformat_minor": 5
}
