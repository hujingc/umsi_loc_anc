{
 "cells": [
  {
   "cell_type": "markdown",
   "id": "tracked-initial",
   "metadata": {},
   "source": [
    "# PCA MODEL"
   ]
  },
  {
   "cell_type": "code",
   "execution_count": 18,
   "id": "golden-methodology",
   "metadata": {},
   "outputs": [],
   "source": [
    "#####Links Used:\n",
    "#https://www.datacamp.com/community/tutorials/principal-component-analysis-in-python\n",
    "#https://towardsdatascience.com/pca-using-python-scikit-learn-e653f8989e60\n",
    "#https://www.datasklr.com/principal-component-analysis-and-factor-analysis/principal-component-analysis\n",
    "#https://cmdlinetips.com/2018/03/pca-example-in-python-with-scikit-learn/\n",
    "#https://stackoverflow.com/questions/39216897/plot-pca-loadings-and-loading-in-biplot-in-sklearn-like-rs-autoplot\n",
    "\n",
    "##WHEN WE START TRAIN/TEST SPLIT REF.: https://stackabuse.com/implementing-pca-in-python-with-scikit-learn/"
   ]
  },
  {
   "cell_type": "code",
   "execution_count": 19,
   "id": "configured-lecture",
   "metadata": {},
   "outputs": [],
   "source": [
    "import pandas as pd\n",
    "import numpy as np\n",
    "import seaborn as sns\n",
    "import matplotlib.pyplot as plt"
   ]
  },
  {
   "cell_type": "code",
   "execution_count": 20,
   "id": "consecutive-dining",
   "metadata": {},
   "outputs": [
    {
     "data": {
      "text/html": [
       "<div>\n",
       "<style scoped>\n",
       "    .dataframe tbody tr th:only-of-type {\n",
       "        vertical-align: middle;\n",
       "    }\n",
       "\n",
       "    .dataframe tbody tr th {\n",
       "        vertical-align: top;\n",
       "    }\n",
       "\n",
       "    .dataframe thead th {\n",
       "        text-align: right;\n",
       "    }\n",
       "</style>\n",
       "<table border=\"1\" class=\"dataframe\">\n",
       "  <thead>\n",
       "    <tr style=\"text-align: right;\">\n",
       "      <th></th>\n",
       "      <th>Unnamed: 0</th>\n",
       "      <th>maxLoad</th>\n",
       "      <th>stressMaxLoad</th>\n",
       "      <th>strainMaxLoad</th>\n",
       "      <th>energyAbsorp</th>\n",
       "      <th>youngsMod</th>\n",
       "      <th>ph</th>\n",
       "      <th>sec_Mn</th>\n",
       "      <th>sec_Mw</th>\n",
       "      <th>sec_polyDisp</th>\n",
       "      <th>sec_calcMass</th>\n",
       "      <th>sec_massRec</th>\n",
       "    </tr>\n",
       "  </thead>\n",
       "  <tbody>\n",
       "    <tr>\n",
       "      <th>0</th>\n",
       "      <td>0</td>\n",
       "      <td>34.670</td>\n",
       "      <td>28.7790</td>\n",
       "      <td>0.051118</td>\n",
       "      <td>0.072340</td>\n",
       "      <td>2274.6</td>\n",
       "      <td>5.065</td>\n",
       "      <td>44.1</td>\n",
       "      <td>127.6</td>\n",
       "      <td>2.890</td>\n",
       "      <td>22.45</td>\n",
       "      <td>71.9</td>\n",
       "    </tr>\n",
       "    <tr>\n",
       "      <th>1</th>\n",
       "      <td>1</td>\n",
       "      <td>12.710</td>\n",
       "      <td>9.7289</td>\n",
       "      <td>0.030050</td>\n",
       "      <td>0.023396</td>\n",
       "      <td>1416.2</td>\n",
       "      <td>4.830</td>\n",
       "      <td>35.9</td>\n",
       "      <td>85.4</td>\n",
       "      <td>2.377</td>\n",
       "      <td>10.53</td>\n",
       "      <td>23.4</td>\n",
       "    </tr>\n",
       "    <tr>\n",
       "      <th>2</th>\n",
       "      <td>2</td>\n",
       "      <td>17.301</td>\n",
       "      <td>13.5850</td>\n",
       "      <td>0.034793</td>\n",
       "      <td>0.034683</td>\n",
       "      <td>2083.7</td>\n",
       "      <td>5.207</td>\n",
       "      <td>20.1</td>\n",
       "      <td>93.4</td>\n",
       "      <td>4.653</td>\n",
       "      <td>20.54</td>\n",
       "      <td>65.8</td>\n",
       "    </tr>\n",
       "    <tr>\n",
       "      <th>3</th>\n",
       "      <td>3</td>\n",
       "      <td>25.879</td>\n",
       "      <td>21.3200</td>\n",
       "      <td>0.044734</td>\n",
       "      <td>0.057662</td>\n",
       "      <td>2015.6</td>\n",
       "      <td>5.165</td>\n",
       "      <td>29.5</td>\n",
       "      <td>91.2</td>\n",
       "      <td>3.094</td>\n",
       "      <td>6.84</td>\n",
       "      <td>21.9</td>\n",
       "    </tr>\n",
       "    <tr>\n",
       "      <th>4</th>\n",
       "      <td>4</td>\n",
       "      <td>14.901</td>\n",
       "      <td>16.1320</td>\n",
       "      <td>0.047622</td>\n",
       "      <td>0.036076</td>\n",
       "      <td>1798.6</td>\n",
       "      <td>6.405</td>\n",
       "      <td>76.8</td>\n",
       "      <td>161.6</td>\n",
       "      <td>2.105</td>\n",
       "      <td>7.92</td>\n",
       "      <td>25.4</td>\n",
       "    </tr>\n",
       "  </tbody>\n",
       "</table>\n",
       "</div>"
      ],
      "text/plain": [
       "   Unnamed: 0  maxLoad  stressMaxLoad  strainMaxLoad  energyAbsorp  youngsMod  \\\n",
       "0           0   34.670        28.7790       0.051118      0.072340     2274.6   \n",
       "1           1   12.710         9.7289       0.030050      0.023396     1416.2   \n",
       "2           2   17.301        13.5850       0.034793      0.034683     2083.7   \n",
       "3           3   25.879        21.3200       0.044734      0.057662     2015.6   \n",
       "4           4   14.901        16.1320       0.047622      0.036076     1798.6   \n",
       "\n",
       "      ph  sec_Mn  sec_Mw  sec_polyDisp  sec_calcMass  sec_massRec  \n",
       "0  5.065    44.1   127.6         2.890         22.45         71.9  \n",
       "1  4.830    35.9    85.4         2.377         10.53         23.4  \n",
       "2  5.207    20.1    93.4         4.653         20.54         65.8  \n",
       "3  5.165    29.5    91.2         3.094          6.84         21.9  \n",
       "4  6.405    76.8   161.6         2.105          7.92         25.4  "
      ]
     },
     "execution_count": 20,
     "metadata": {},
     "output_type": "execute_result"
    }
   ],
   "source": [
    "initData = pd.read_csv(\"numeric_data_for_pca.csv\")\n",
    "initData.head()"
   ]
  },
  {
   "cell_type": "code",
   "execution_count": 37,
   "id": "continent-michigan",
   "metadata": {},
   "outputs": [
    {
     "data": {
      "text/html": [
       "<div>\n",
       "<style scoped>\n",
       "    .dataframe tbody tr th:only-of-type {\n",
       "        vertical-align: middle;\n",
       "    }\n",
       "\n",
       "    .dataframe tbody tr th {\n",
       "        vertical-align: top;\n",
       "    }\n",
       "\n",
       "    .dataframe thead th {\n",
       "        text-align: right;\n",
       "    }\n",
       "</style>\n",
       "<table border=\"1\" class=\"dataframe\">\n",
       "  <thead>\n",
       "    <tr style=\"text-align: right;\">\n",
       "      <th></th>\n",
       "      <th>maxLoad</th>\n",
       "      <th>stressMaxLoad</th>\n",
       "      <th>strainMaxLoad</th>\n",
       "      <th>energyAbsorp</th>\n",
       "      <th>ph</th>\n",
       "      <th>sec_Mn</th>\n",
       "      <th>sec_Mw</th>\n",
       "      <th>sec_polyDisp</th>\n",
       "      <th>sec_calcMass</th>\n",
       "      <th>sec_massRec</th>\n",
       "    </tr>\n",
       "  </thead>\n",
       "  <tbody>\n",
       "    <tr>\n",
       "      <th>0</th>\n",
       "      <td>34.670</td>\n",
       "      <td>28.7790</td>\n",
       "      <td>0.051118</td>\n",
       "      <td>0.072340</td>\n",
       "      <td>5.065</td>\n",
       "      <td>44.1</td>\n",
       "      <td>127.6</td>\n",
       "      <td>2.890</td>\n",
       "      <td>22.45</td>\n",
       "      <td>71.9</td>\n",
       "    </tr>\n",
       "    <tr>\n",
       "      <th>1</th>\n",
       "      <td>12.710</td>\n",
       "      <td>9.7289</td>\n",
       "      <td>0.030050</td>\n",
       "      <td>0.023396</td>\n",
       "      <td>4.830</td>\n",
       "      <td>35.9</td>\n",
       "      <td>85.4</td>\n",
       "      <td>2.377</td>\n",
       "      <td>10.53</td>\n",
       "      <td>23.4</td>\n",
       "    </tr>\n",
       "    <tr>\n",
       "      <th>2</th>\n",
       "      <td>17.301</td>\n",
       "      <td>13.5850</td>\n",
       "      <td>0.034793</td>\n",
       "      <td>0.034683</td>\n",
       "      <td>5.207</td>\n",
       "      <td>20.1</td>\n",
       "      <td>93.4</td>\n",
       "      <td>4.653</td>\n",
       "      <td>20.54</td>\n",
       "      <td>65.8</td>\n",
       "    </tr>\n",
       "    <tr>\n",
       "      <th>3</th>\n",
       "      <td>25.879</td>\n",
       "      <td>21.3200</td>\n",
       "      <td>0.044734</td>\n",
       "      <td>0.057662</td>\n",
       "      <td>5.165</td>\n",
       "      <td>29.5</td>\n",
       "      <td>91.2</td>\n",
       "      <td>3.094</td>\n",
       "      <td>6.84</td>\n",
       "      <td>21.9</td>\n",
       "    </tr>\n",
       "    <tr>\n",
       "      <th>4</th>\n",
       "      <td>14.901</td>\n",
       "      <td>16.1320</td>\n",
       "      <td>0.047622</td>\n",
       "      <td>0.036076</td>\n",
       "      <td>6.405</td>\n",
       "      <td>76.8</td>\n",
       "      <td>161.6</td>\n",
       "      <td>2.105</td>\n",
       "      <td>7.92</td>\n",
       "      <td>25.4</td>\n",
       "    </tr>\n",
       "    <tr>\n",
       "      <th>...</th>\n",
       "      <td>...</td>\n",
       "      <td>...</td>\n",
       "      <td>...</td>\n",
       "      <td>...</td>\n",
       "      <td>...</td>\n",
       "      <td>...</td>\n",
       "      <td>...</td>\n",
       "      <td>...</td>\n",
       "      <td>...</td>\n",
       "      <td>...</td>\n",
       "    </tr>\n",
       "    <tr>\n",
       "      <th>952</th>\n",
       "      <td>26.905</td>\n",
       "      <td>16.8620</td>\n",
       "      <td>0.035132</td>\n",
       "      <td>0.047392</td>\n",
       "      <td>4.890</td>\n",
       "      <td>19.0</td>\n",
       "      <td>83.3</td>\n",
       "      <td>4.392</td>\n",
       "      <td>20.06</td>\n",
       "      <td>64.3</td>\n",
       "    </tr>\n",
       "    <tr>\n",
       "      <th>953</th>\n",
       "      <td>59.536</td>\n",
       "      <td>49.7810</td>\n",
       "      <td>0.065892</td>\n",
       "      <td>0.171850</td>\n",
       "      <td>8.465</td>\n",
       "      <td>22.0</td>\n",
       "      <td>170.2</td>\n",
       "      <td>7.743</td>\n",
       "      <td>17.02</td>\n",
       "      <td>54.5</td>\n",
       "    </tr>\n",
       "    <tr>\n",
       "      <th>954</th>\n",
       "      <td>27.976</td>\n",
       "      <td>29.3740</td>\n",
       "      <td>0.055006</td>\n",
       "      <td>0.064584</td>\n",
       "      <td>5.150</td>\n",
       "      <td>14.7</td>\n",
       "      <td>46.5</td>\n",
       "      <td>3.160</td>\n",
       "      <td>10.55</td>\n",
       "      <td>33.8</td>\n",
       "    </tr>\n",
       "    <tr>\n",
       "      <th>955</th>\n",
       "      <td>56.130</td>\n",
       "      <td>37.1630</td>\n",
       "      <td>0.060996</td>\n",
       "      <td>0.136090</td>\n",
       "      <td>7.440</td>\n",
       "      <td>27.0</td>\n",
       "      <td>83.1</td>\n",
       "      <td>3.072</td>\n",
       "      <td>12.52</td>\n",
       "      <td>40.1</td>\n",
       "    </tr>\n",
       "    <tr>\n",
       "      <th>956</th>\n",
       "      <td>33.068</td>\n",
       "      <td>25.1000</td>\n",
       "      <td>0.045726</td>\n",
       "      <td>0.067116</td>\n",
       "      <td>5.165</td>\n",
       "      <td>25.4</td>\n",
       "      <td>100.3</td>\n",
       "      <td>3.945</td>\n",
       "      <td>19.39</td>\n",
       "      <td>62.2</td>\n",
       "    </tr>\n",
       "  </tbody>\n",
       "</table>\n",
       "<p>930 rows × 10 columns</p>\n",
       "</div>"
      ],
      "text/plain": [
       "     maxLoad  stressMaxLoad  strainMaxLoad  energyAbsorp     ph  sec_Mn  \\\n",
       "0     34.670        28.7790       0.051118      0.072340  5.065    44.1   \n",
       "1     12.710         9.7289       0.030050      0.023396  4.830    35.9   \n",
       "2     17.301        13.5850       0.034793      0.034683  5.207    20.1   \n",
       "3     25.879        21.3200       0.044734      0.057662  5.165    29.5   \n",
       "4     14.901        16.1320       0.047622      0.036076  6.405    76.8   \n",
       "..       ...            ...            ...           ...    ...     ...   \n",
       "952   26.905        16.8620       0.035132      0.047392  4.890    19.0   \n",
       "953   59.536        49.7810       0.065892      0.171850  8.465    22.0   \n",
       "954   27.976        29.3740       0.055006      0.064584  5.150    14.7   \n",
       "955   56.130        37.1630       0.060996      0.136090  7.440    27.0   \n",
       "956   33.068        25.1000       0.045726      0.067116  5.165    25.4   \n",
       "\n",
       "     sec_Mw  sec_polyDisp  sec_calcMass  sec_massRec  \n",
       "0     127.6         2.890         22.45         71.9  \n",
       "1      85.4         2.377         10.53         23.4  \n",
       "2      93.4         4.653         20.54         65.8  \n",
       "3      91.2         3.094          6.84         21.9  \n",
       "4     161.6         2.105          7.92         25.4  \n",
       "..      ...           ...           ...          ...  \n",
       "952    83.3         4.392         20.06         64.3  \n",
       "953   170.2         7.743         17.02         54.5  \n",
       "954    46.5         3.160         10.55         33.8  \n",
       "955    83.1         3.072         12.52         40.1  \n",
       "956   100.3         3.945         19.39         62.2  \n",
       "\n",
       "[930 rows x 10 columns]"
      ]
     },
     "execution_count": 37,
     "metadata": {},
     "output_type": "execute_result"
    }
   ],
   "source": [
    "initData[initData.isnull().any(axis=1)].head()\n",
    "initData.drop(columns = ['youngsMod', 'Unnamed: 0'])"
   ]
  },
  {
   "cell_type": "code",
   "execution_count": 38,
   "id": "absent-mercury",
   "metadata": {},
   "outputs": [
    {
     "data": {
      "text/plain": [
       "(930, 12)"
      ]
     },
     "execution_count": 38,
     "metadata": {},
     "output_type": "execute_result"
    }
   ],
   "source": [
    "initData = initData.dropna()\n",
    "initData.shape"
   ]
  },
  {
   "cell_type": "code",
   "execution_count": 39,
   "id": "freelance-bahrain",
   "metadata": {},
   "outputs": [],
   "source": [
    "import sklearn\n",
    "from sklearn.preprocessing import StandardScaler\n",
    "from sklearn.preprocessing import Normalizer\n",
    "from sklearn.decomposition import PCA\n",
    "from sklearn.pipeline import Pipeline\n",
    "\n",
    "pca = PCA(n_components=3)"
   ]
  },
  {
   "cell_type": "code",
   "execution_count": 40,
   "id": "ahead-stomach",
   "metadata": {},
   "outputs": [],
   "source": [
    "pipeline = Pipeline([\n",
    "    ('scaling', StandardScaler()), ('normalize', Normalizer())  \n",
    "])"
   ]
  },
  {
   "cell_type": "code",
   "execution_count": 49,
   "id": "unlikely-combining",
   "metadata": {},
   "outputs": [],
   "source": [
    "from sklearn.model_selection import train_test_split\n",
    "# \"target\" contains the column name of the classification labels\n",
    "target = \"sec_Mn\"\n",
    "\n",
    "X = initData.drop(target,1)\n",
    "y = initData[target]\n",
    "\n",
    "seed = 7\n",
    "test_size = 0.33\n",
    "X_train, X_test, y_train, y_test = train_test_split(X, y, test_size=test_size, random_state=seed)"
   ]
  },
  {
   "cell_type": "code",
   "execution_count": 50,
   "id": "actual-smart",
   "metadata": {},
   "outputs": [],
   "source": [
    "X_train = pipeline.fit_transform(X_train)\n",
    "X_test = pipeline.transform(X_test)"
   ]
  },
  {
   "cell_type": "code",
   "execution_count": 51,
   "id": "usual-toronto",
   "metadata": {},
   "outputs": [],
   "source": [
    "X_train = pca.fit_transform(X_train)\n",
    "X_test = pca.transform(X_test)"
   ]
  },
  {
   "cell_type": "code",
   "execution_count": 52,
   "id": "bottom-weather",
   "metadata": {},
   "outputs": [
    {
     "data": {
      "text/plain": [
       "array([0.26100299, 0.23301465, 0.15737431])"
      ]
     },
     "execution_count": 52,
     "metadata": {},
     "output_type": "execute_result"
    }
   ],
   "source": [
    "explained_variance = pca.explained_variance_ratio_\n",
    "explained_variance"
   ]
  },
  {
   "cell_type": "code",
   "execution_count": 53,
   "id": "essential-public",
   "metadata": {},
   "outputs": [],
   "source": [
    "##Scree code:\n",
    "\n",
    "screePipe = pipeline.fit_transform(initData)\n",
    "scree_pca = PCA(n_components=5)"
   ]
  },
  {
   "cell_type": "code",
   "execution_count": 54,
   "id": "european-fault",
   "metadata": {},
   "outputs": [],
   "source": [
    "screeFitTransf=scree_pca.fit_transform(screePipe)"
   ]
  },
  {
   "cell_type": "code",
   "execution_count": 55,
   "id": "mysterious-motor",
   "metadata": {},
   "outputs": [
    {
     "data": {
      "text/plain": [
       "array([[ 0.78847826, -0.3908887 ,  0.57268511,  0.03006658,  0.0666305 ],\n",
       "       [-0.70923997, -0.21841604,  0.52464622,  0.15094704,  0.22516676],\n",
       "       [-0.01108043, -0.79986645,  0.13518292,  0.03926919,  0.51828459],\n",
       "       ...,\n",
       "       [-0.03265672,  0.5708505 , -0.59115211,  0.08638264, -0.16424961],\n",
       "       [ 0.59192756,  0.56401205, -0.12521619,  0.50699736, -0.11993533],\n",
       "       [ 0.52494874, -0.18274865, -0.63789325,  0.53589938, -0.04990995]])"
      ]
     },
     "execution_count": 55,
     "metadata": {},
     "output_type": "execute_result"
    }
   ],
   "source": [
    "screeFitTransf"
   ]
  },
  {
   "cell_type": "code",
   "execution_count": 56,
   "id": "plastic-cowboy",
   "metadata": {},
   "outputs": [],
   "source": [
    "scree_df = pd.DataFrame(data = screeFitTransf, columns = ['PC 1', 'PC 2', 'PC 3', 'PC 4', 'PC 5'])"
   ]
  },
  {
   "cell_type": "code",
   "execution_count": 58,
   "id": "complete-consultancy",
   "metadata": {},
   "outputs": [
    {
     "data": {
      "text/html": [
       "<div>\n",
       "<style scoped>\n",
       "    .dataframe tbody tr th:only-of-type {\n",
       "        vertical-align: middle;\n",
       "    }\n",
       "\n",
       "    .dataframe tbody tr th {\n",
       "        vertical-align: top;\n",
       "    }\n",
       "\n",
       "    .dataframe thead th {\n",
       "        text-align: right;\n",
       "    }\n",
       "</style>\n",
       "<table border=\"1\" class=\"dataframe\">\n",
       "  <thead>\n",
       "    <tr style=\"text-align: right;\">\n",
       "      <th></th>\n",
       "      <th>PC 1</th>\n",
       "      <th>PC 2</th>\n",
       "      <th>PC 3</th>\n",
       "      <th>PC 4</th>\n",
       "      <th>PC 5</th>\n",
       "    </tr>\n",
       "  </thead>\n",
       "  <tbody>\n",
       "    <tr>\n",
       "      <th>0</th>\n",
       "      <td>0.788478</td>\n",
       "      <td>-0.390889</td>\n",
       "      <td>0.572685</td>\n",
       "      <td>0.030067</td>\n",
       "      <td>0.066630</td>\n",
       "    </tr>\n",
       "    <tr>\n",
       "      <th>1</th>\n",
       "      <td>-0.709240</td>\n",
       "      <td>-0.218416</td>\n",
       "      <td>0.524646</td>\n",
       "      <td>0.150947</td>\n",
       "      <td>0.225167</td>\n",
       "    </tr>\n",
       "    <tr>\n",
       "      <th>2</th>\n",
       "      <td>-0.011080</td>\n",
       "      <td>-0.799866</td>\n",
       "      <td>0.135183</td>\n",
       "      <td>0.039269</td>\n",
       "      <td>0.518285</td>\n",
       "    </tr>\n",
       "    <tr>\n",
       "      <th>3</th>\n",
       "      <td>-0.434865</td>\n",
       "      <td>0.287587</td>\n",
       "      <td>0.603175</td>\n",
       "      <td>0.139992</td>\n",
       "      <td>0.345888</td>\n",
       "    </tr>\n",
       "    <tr>\n",
       "      <th>4</th>\n",
       "      <td>-0.238320</td>\n",
       "      <td>0.242569</td>\n",
       "      <td>0.789388</td>\n",
       "      <td>0.252342</td>\n",
       "      <td>0.280160</td>\n",
       "    </tr>\n",
       "  </tbody>\n",
       "</table>\n",
       "</div>"
      ],
      "text/plain": [
       "       PC 1      PC 2      PC 3      PC 4      PC 5\n",
       "0  0.788478 -0.390889  0.572685  0.030067  0.066630\n",
       "1 -0.709240 -0.218416  0.524646  0.150947  0.225167\n",
       "2 -0.011080 -0.799866  0.135183  0.039269  0.518285\n",
       "3 -0.434865  0.287587  0.603175  0.139992  0.345888\n",
       "4 -0.238320  0.242569  0.789388  0.252342  0.280160"
      ]
     },
     "execution_count": 58,
     "metadata": {},
     "output_type": "execute_result"
    }
   ],
   "source": [
    "scree_df.head()"
   ]
  },
  {
   "cell_type": "code",
   "execution_count": 59,
   "id": "infectious-conversion",
   "metadata": {},
   "outputs": [
    {
     "data": {
      "image/png": "[encoded data removed]",
      "text/plain": [
       "<Figure size 432x288 with 1 Axes>"
      ]
     },
     "metadata": {
      "needs_background": "light"
     },
     "output_type": "display_data"
    }
   ],
   "source": [
    "###Scree Plot\n",
    "\n",
    "import matplotlib.pyplot as plt\n",
    "\n",
    "scree_PC_Values = np.arange(scree_pca.n_components_) + 1\n",
    "plt.plot(scree_PC_Values, np.square(scree_pca.explained_variance_ratio_), 'ro-', linewidth=2)\n",
    "###We transformed the scree plot by squaring the variance explained to make the \"ideal\" PC more apparent\n",
    "plt.title('Scree Plot')\n",
    "plt.xlabel('Principal Component')\n",
    "plt.ylabel('Proportion of Variance Explained\\n(transformed, squared)')\n",
    "plt.show()"
   ]
  },
  {
   "cell_type": "code",
   "execution_count": null,
   "id": "coated-thumb",
   "metadata": {},
   "outputs": [],
   "source": []
  }
 ],
 "metadata": {
  "kernelspec": {
   "display_name": "Python 3",
   "language": "python",
   "name": "python3"
  },
  "language_info": {
   "codemirror_mode": {
    "name": "ipython",
    "version": 3
   },
   "file_extension": ".py",
   "mimetype": "text/x-python",
   "name": "python",
   "nbconvert_exporter": "python",
   "pygments_lexer": "ipython3",
   "version": "3.8.8"
  }
 },
 "nbformat": 4,
 "nbformat_minor": 5
}
