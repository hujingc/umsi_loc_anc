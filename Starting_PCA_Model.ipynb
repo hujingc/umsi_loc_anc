{
 "cells": [
  {
   "cell_type": "markdown",
   "id": "eligible-pastor",
   "metadata": {},
   "source": [
    "# PCA MODEL"
   ]
  },
  {
   "cell_type": "code",
   "execution_count": null,
   "id": "atlantic-poison",
   "metadata": {},
   "outputs": [],
   "source": [
    "#####Links Used:\n",
    "#https://www.datacamp.com/community/tutorials/principal-component-analysis-in-python\n",
    "#https://towardsdatascience.com/pca-using-python-scikit-learn-e653f8989e60\n",
    "#https://www.datasklr.com/principal-component-analysis-and-factor-analysis/principal-component-analysis\n",
    "#https://cmdlinetips.com/2018/03/pca-example-in-python-with-scikit-learn/\n",
    "#https://stackoverflow.com/questions/39216897/plot-pca-loadings-and-loading-in-biplot-in-sklearn-like-rs-autoplot\n",
    "\n",
    "##WHEN WE START TRAIN/TEST SPLIT REF.: https://stackabuse.com/implementing-pca-in-python-with-scikit-learn/"
   ]
  },
  {
   "cell_type": "code",
   "execution_count": 1,
   "id": "shaped-gates",
   "metadata": {},
   "outputs": [],
   "source": [
    "import pandas as pd\n",
    "import numpy as np\n",
    "import seaborn as sns\n",
    "import matplotlib.pyplot as plt"
   ]
  },
  {
   "cell_type": "code",
   "execution_count": 2,
   "id": "periodic-trainer",
   "metadata": {},
   "outputs": [
    {
     "data": {
      "text/html": [
       "<div>\n",
       "<style scoped>\n",
       "    .dataframe tbody tr th:only-of-type {\n",
       "        vertical-align: middle;\n",
       "    }\n",
       "\n",
       "    .dataframe tbody tr th {\n",
       "        vertical-align: top;\n",
       "    }\n",
       "\n",
       "    .dataframe thead th {\n",
       "        text-align: right;\n",
       "    }\n",
       "</style>\n",
       "<table border=\"1\" class=\"dataframe\">\n",
       "  <thead>\n",
       "    <tr style=\"text-align: right;\">\n",
       "      <th></th>\n",
       "      <th>Unnamed: 0</th>\n",
       "      <th>maxLoad</th>\n",
       "      <th>stressMaxLoad</th>\n",
       "      <th>strainMaxLoad</th>\n",
       "      <th>energyAbsorp</th>\n",
       "      <th>youngsMod</th>\n",
       "      <th>ph</th>\n",
       "      <th>sec_Mn</th>\n",
       "      <th>sec_Mw</th>\n",
       "      <th>sec_polyDisp</th>\n",
       "      <th>sec_calcMass</th>\n",
       "      <th>sec_massRec</th>\n",
       "    </tr>\n",
       "  </thead>\n",
       "  <tbody>\n",
       "    <tr>\n",
       "      <th>0</th>\n",
       "      <td>0</td>\n",
       "      <td>34.670</td>\n",
       "      <td>28.7790</td>\n",
       "      <td>0.051118</td>\n",
       "      <td>0.072340</td>\n",
       "      <td>2274.6</td>\n",
       "      <td>5.065</td>\n",
       "      <td>44.1</td>\n",
       "      <td>127.6</td>\n",
       "      <td>2.890</td>\n",
       "      <td>22.45</td>\n",
       "      <td>71.9</td>\n",
       "    </tr>\n",
       "    <tr>\n",
       "      <th>1</th>\n",
       "      <td>1</td>\n",
       "      <td>12.710</td>\n",
       "      <td>9.7289</td>\n",
       "      <td>0.030050</td>\n",
       "      <td>0.023396</td>\n",
       "      <td>1416.2</td>\n",
       "      <td>4.830</td>\n",
       "      <td>35.9</td>\n",
       "      <td>85.4</td>\n",
       "      <td>2.377</td>\n",
       "      <td>10.53</td>\n",
       "      <td>23.4</td>\n",
       "    </tr>\n",
       "    <tr>\n",
       "      <th>2</th>\n",
       "      <td>2</td>\n",
       "      <td>17.301</td>\n",
       "      <td>13.5850</td>\n",
       "      <td>0.034793</td>\n",
       "      <td>0.034683</td>\n",
       "      <td>2083.7</td>\n",
       "      <td>5.207</td>\n",
       "      <td>20.1</td>\n",
       "      <td>93.4</td>\n",
       "      <td>4.653</td>\n",
       "      <td>20.54</td>\n",
       "      <td>65.8</td>\n",
       "    </tr>\n",
       "    <tr>\n",
       "      <th>3</th>\n",
       "      <td>3</td>\n",
       "      <td>25.879</td>\n",
       "      <td>21.3200</td>\n",
       "      <td>0.044734</td>\n",
       "      <td>0.057662</td>\n",
       "      <td>2015.6</td>\n",
       "      <td>5.165</td>\n",
       "      <td>29.5</td>\n",
       "      <td>91.2</td>\n",
       "      <td>3.094</td>\n",
       "      <td>6.84</td>\n",
       "      <td>21.9</td>\n",
       "    </tr>\n",
       "    <tr>\n",
       "      <th>4</th>\n",
       "      <td>4</td>\n",
       "      <td>14.901</td>\n",
       "      <td>16.1320</td>\n",
       "      <td>0.047622</td>\n",
       "      <td>0.036076</td>\n",
       "      <td>1798.6</td>\n",
       "      <td>6.405</td>\n",
       "      <td>76.8</td>\n",
       "      <td>161.6</td>\n",
       "      <td>2.105</td>\n",
       "      <td>7.92</td>\n",
       "      <td>25.4</td>\n",
       "    </tr>\n",
       "  </tbody>\n",
       "</table>\n",
       "</div>"
      ],
      "text/plain": [
       "   Unnamed: 0  maxLoad  stressMaxLoad  strainMaxLoad  energyAbsorp  youngsMod  \\\n",
       "0           0   34.670        28.7790       0.051118      0.072340     2274.6   \n",
       "1           1   12.710         9.7289       0.030050      0.023396     1416.2   \n",
       "2           2   17.301        13.5850       0.034793      0.034683     2083.7   \n",
       "3           3   25.879        21.3200       0.044734      0.057662     2015.6   \n",
       "4           4   14.901        16.1320       0.047622      0.036076     1798.6   \n",
       "\n",
       "      ph  sec_Mn  sec_Mw  sec_polyDisp  sec_calcMass  sec_massRec  \n",
       "0  5.065    44.1   127.6         2.890         22.45         71.9  \n",
       "1  4.830    35.9    85.4         2.377         10.53         23.4  \n",
       "2  5.207    20.1    93.4         4.653         20.54         65.8  \n",
       "3  5.165    29.5    91.2         3.094          6.84         21.9  \n",
       "4  6.405    76.8   161.6         2.105          7.92         25.4  "
      ]
     },
     "execution_count": 2,
     "metadata": {},
     "output_type": "execute_result"
    }
   ],
   "source": [
    "initData = pd.read_csv(\"numeric_data_for_pca.csv\")\n",
    "initData.head()"
   ]
  },
  {
   "cell_type": "code",
   "execution_count": 11,
   "id": "nutritional-bahamas",
   "metadata": {},
   "outputs": [
    {
     "data": {
      "text/html": [
       "<div>\n",
       "<style scoped>\n",
       "    .dataframe tbody tr th:only-of-type {\n",
       "        vertical-align: middle;\n",
       "    }\n",
       "\n",
       "    .dataframe tbody tr th {\n",
       "        vertical-align: top;\n",
       "    }\n",
       "\n",
       "    .dataframe thead th {\n",
       "        text-align: right;\n",
       "    }\n",
       "</style>\n",
       "<table border=\"1\" class=\"dataframe\">\n",
       "  <thead>\n",
       "    <tr style=\"text-align: right;\">\n",
       "      <th></th>\n",
       "      <th>Unnamed: 0</th>\n",
       "      <th>maxLoad</th>\n",
       "      <th>stressMaxLoad</th>\n",
       "      <th>strainMaxLoad</th>\n",
       "      <th>energyAbsorp</th>\n",
       "      <th>youngsMod</th>\n",
       "      <th>ph</th>\n",
       "      <th>sec_Mn</th>\n",
       "      <th>sec_Mw</th>\n",
       "      <th>sec_polyDisp</th>\n",
       "      <th>sec_calcMass</th>\n",
       "      <th>sec_massRec</th>\n",
       "    </tr>\n",
       "  </thead>\n",
       "  <tbody>\n",
       "  </tbody>\n",
       "</table>\n",
       "</div>"
      ],
      "text/plain": [
       "Empty DataFrame\n",
       "Columns: [Unnamed: 0, maxLoad, stressMaxLoad, strainMaxLoad, energyAbsorp, youngsMod, ph, sec_Mn, sec_Mw, sec_polyDisp, sec_calcMass, sec_massRec]\n",
       "Index: []"
      ]
     },
     "execution_count": 11,
     "metadata": {},
     "output_type": "execute_result"
    }
   ],
   "source": [
    "initData[initData.isnull().any(axis=1)].head()"
   ]
  },
  {
   "cell_type": "code",
   "execution_count": 4,
   "id": "imposed-appearance",
   "metadata": {},
   "outputs": [
    {
     "data": {
      "text/plain": [
       "(930, 12)"
      ]
     },
     "execution_count": 4,
     "metadata": {},
     "output_type": "execute_result"
    }
   ],
   "source": [
    "initData = initData.dropna()\n",
    "initData.shape"
   ]
  },
  {
   "cell_type": "code",
   "execution_count": 12,
   "id": "announced-centre",
   "metadata": {},
   "outputs": [],
   "source": [
    "import sklearn\n",
    "from sklearn.preprocessing import StandardScaler\n",
    "from sklearn.preprocessing import Normalizer\n",
    "from sklearn.decomposition import PCA\n",
    "from sklearn.pipeline import Pipeline\n",
    "\n",
    "pca = PCA(n_components=3)"
   ]
  },
  {
   "cell_type": "code",
   "execution_count": 13,
   "id": "invisible-resistance",
   "metadata": {},
   "outputs": [],
   "source": [
    "pipeline = Pipeline([\n",
    "    ('scaling', StandardScaler()), ('normalize', Normalizer())  \n",
    "])"
   ]
  },
  {
   "cell_type": "code",
   "execution_count": 14,
   "id": "unnecessary-roller",
   "metadata": {},
   "outputs": [],
   "source": [
    "from sklearn.model_selection import train_test_split\n",
    "# \"target\" contains the column name of the classification labels\n",
    "target = \"ph\"\n",
    "\n",
    "X = initData.drop(target,1)\n",
    "y = initData[target]\n",
    "\n",
    "seed = 7\n",
    "test_size = 0.33\n",
    "X_train, X_test, y_train, y_test = train_test_split(X, y, test_size=test_size, random_state=seed)"
   ]
  },
  {
   "cell_type": "code",
   "execution_count": 15,
   "id": "fallen-yahoo",
   "metadata": {},
   "outputs": [],
   "source": [
    "X_train = pipeline.fit_transform(X_train)\n",
    "X_test = pipeline.transform(X_test)\n"
   ]
  },
  {
   "cell_type": "code",
   "execution_count": 16,
   "id": "attended-couple",
   "metadata": {},
   "outputs": [],
   "source": [
    "X_train = pca.fit_transform(X_train)\n",
    "X_test = pca.transform(X_test)\n"
   ]
  },
  {
   "cell_type": "code",
   "execution_count": 17,
   "id": "featured-median",
   "metadata": {},
   "outputs": [
    {
     "data": {
      "text/plain": [
       "array([0.25545768, 0.22930607, 0.19085401])"
      ]
     },
     "execution_count": 17,
     "metadata": {},
     "output_type": "execute_result"
    }
   ],
   "source": [
    "explained_variance = pca.explained_variance_ratio_\n",
    "explained_variance"
   ]
  },
  {
   "cell_type": "code",
   "execution_count": null,
   "id": "empty-chorus",
   "metadata": {},
   "outputs": [],
   "source": []
  }
 ],
 "metadata": {
  "kernelspec": {
   "display_name": "Python 3",
   "language": "python",
   "name": "python3"
  },
  "language_info": {
   "codemirror_mode": {
    "name": "ipython",
    "version": 3
   },
   "file_extension": ".py",
   "mimetype": "text/x-python",
   "name": "python",
   "nbconvert_exporter": "python",
   "pygments_lexer": "ipython3",
   "version": "3.8.8"
  }
 },
 "nbformat": 4,
 "nbformat_minor": 5
}
