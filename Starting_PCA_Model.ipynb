{
 "cells": [
  {
   "cell_type": "markdown",
   "id": "valid-landscape",
   "metadata": {},
   "source": [
    "# PCA MODEL"
   ]
  },
  {
   "cell_type": "code",
   "execution_count": null,
   "id": "experienced-logistics",
   "metadata": {},
   "outputs": [],
   "source": [
    "#####Links Used:\n",
    "#https://www.datacamp.com/community/tutorials/principal-component-analysis-in-python\n",
    "#https://towardsdatascience.com/pca-using-python-scikit-learn-e653f8989e60\n",
    "#https://www.datasklr.com/principal-component-analysis-and-factor-analysis/principal-component-analysis\n",
    "#https://cmdlinetips.com/2018/03/pca-example-in-python-with-scikit-learn/\n",
    "#https://stackoverflow.com/questions/39216897/plot-pca-loadings-and-loading-in-biplot-in-sklearn-like-rs-autoplot\n",
    "\n",
    "##WHEN WE START TRAIN/TEST SPLIT REF.: https://stackabuse.com/implementing-pca-in-python-with-scikit-learn/"
   ]
  },
  {
   "cell_type": "markdown",
   "id": "arabic-hearing",
   "metadata": {},
   "source": [
    "# LOADING DATA"
   ]
  },
  {
   "cell_type": "code",
   "execution_count": 1,
   "id": "homeless-pearl",
   "metadata": {},
   "outputs": [],
   "source": [
    "import pandas as pd\n",
    "import numpy as np\n",
    "import seaborn as sns\n",
    "import matplotlib.pyplot as plt"
   ]
  },
  {
   "cell_type": "code",
   "execution_count": 38,
   "id": "clear-leadership",
   "metadata": {
    "scrolled": true
   },
   "outputs": [
    {
     "name": "stdout",
     "output_type": "stream",
     "text": [
      "(957, 8)\n"
     ]
    },
    {
     "data": {
      "text/html": [
       "<div>\n",
       "<style scoped>\n",
       "    .dataframe tbody tr th:only-of-type {\n",
       "        vertical-align: middle;\n",
       "    }\n",
       "\n",
       "    .dataframe tbody tr th {\n",
       "        vertical-align: top;\n",
       "    }\n",
       "\n",
       "    .dataframe thead th {\n",
       "        text-align: right;\n",
       "    }\n",
       "</style>\n",
       "<table border=\"1\" class=\"dataframe\">\n",
       "  <thead>\n",
       "    <tr style=\"text-align: right;\">\n",
       "      <th></th>\n",
       "      <th>maxLoad</th>\n",
       "      <th>stressMaxLoad</th>\n",
       "      <th>strainMaxLoad</th>\n",
       "      <th>energyAbsorp</th>\n",
       "      <th>ph</th>\n",
       "      <th>sec_Mn</th>\n",
       "      <th>sec_Mw</th>\n",
       "      <th>sec_polyDisp</th>\n",
       "    </tr>\n",
       "  </thead>\n",
       "  <tbody>\n",
       "    <tr>\n",
       "      <th>0</th>\n",
       "      <td>34.670</td>\n",
       "      <td>28.7790</td>\n",
       "      <td>0.051118</td>\n",
       "      <td>0.072340</td>\n",
       "      <td>5.065</td>\n",
       "      <td>44.1</td>\n",
       "      <td>127.6</td>\n",
       "      <td>2.890</td>\n",
       "    </tr>\n",
       "    <tr>\n",
       "      <th>1</th>\n",
       "      <td>12.710</td>\n",
       "      <td>9.7289</td>\n",
       "      <td>0.030050</td>\n",
       "      <td>0.023396</td>\n",
       "      <td>4.830</td>\n",
       "      <td>35.9</td>\n",
       "      <td>85.4</td>\n",
       "      <td>2.377</td>\n",
       "    </tr>\n",
       "    <tr>\n",
       "      <th>2</th>\n",
       "      <td>17.301</td>\n",
       "      <td>13.5850</td>\n",
       "      <td>0.034793</td>\n",
       "      <td>0.034683</td>\n",
       "      <td>5.207</td>\n",
       "      <td>20.1</td>\n",
       "      <td>93.4</td>\n",
       "      <td>4.653</td>\n",
       "    </tr>\n",
       "    <tr>\n",
       "      <th>3</th>\n",
       "      <td>25.879</td>\n",
       "      <td>21.3200</td>\n",
       "      <td>0.044734</td>\n",
       "      <td>0.057662</td>\n",
       "      <td>5.165</td>\n",
       "      <td>29.5</td>\n",
       "      <td>91.2</td>\n",
       "      <td>3.094</td>\n",
       "    </tr>\n",
       "    <tr>\n",
       "      <th>4</th>\n",
       "      <td>14.901</td>\n",
       "      <td>16.1320</td>\n",
       "      <td>0.047622</td>\n",
       "      <td>0.036076</td>\n",
       "      <td>6.405</td>\n",
       "      <td>76.8</td>\n",
       "      <td>161.6</td>\n",
       "      <td>2.105</td>\n",
       "    </tr>\n",
       "  </tbody>\n",
       "</table>\n",
       "</div>"
      ],
      "text/plain": [
       "   maxLoad  stressMaxLoad  strainMaxLoad  energyAbsorp     ph  sec_Mn  sec_Mw  \\\n",
       "0   34.670        28.7790       0.051118      0.072340  5.065    44.1   127.6   \n",
       "1   12.710         9.7289       0.030050      0.023396  4.830    35.9    85.4   \n",
       "2   17.301        13.5850       0.034793      0.034683  5.207    20.1    93.4   \n",
       "3   25.879        21.3200       0.044734      0.057662  5.165    29.5    91.2   \n",
       "4   14.901        16.1320       0.047622      0.036076  6.405    76.8   161.6   \n",
       "\n",
       "   sec_polyDisp  \n",
       "0         2.890  \n",
       "1         2.377  \n",
       "2         4.653  \n",
       "3         3.094  \n",
       "4         2.105  "
      ]
     },
     "execution_count": 38,
     "metadata": {},
     "output_type": "execute_result"
    }
   ],
   "source": [
    "initData = pd.read_csv(\"publisher_analysis_data.csv\")\n",
    "initData['year'] = initData['year'].apply(lambda x: int(x.split('-')[0]))\n",
    "initData['half']=initData['year']//50*50\n",
    "year_series=initData['half']\n",
    "initData = initData.drop(columns = ['youngsMod','Unnamed: 0', 'sec_calcMass', 'sec_massRec', 'publisher','year','half'])\n",
    "initData = initData.dropna()\n",
    "print(initData.shape)\n",
    "initData.head()"
   ]
  },
  {
   "cell_type": "markdown",
   "id": "dying-segment",
   "metadata": {},
   "source": [
    "# BUILDING PCA MODEL"
   ]
  },
  {
   "cell_type": "code",
   "execution_count": 10,
   "id": "demographic-bowling",
   "metadata": {},
   "outputs": [],
   "source": [
    "import sklearn\n",
    "from sklearn.preprocessing import StandardScaler\n",
    "from sklearn.preprocessing import Normalizer\n",
    "from sklearn.decomposition import PCA\n",
    "from sklearn.pipeline import Pipeline\n",
    "\n",
    "pca = PCA(n_components=3)\n",
    "pipeline = Pipeline([\n",
    "    ('scaling', StandardScaler()), ('normalize', Normalizer())  \n",
    "])"
   ]
  },
  {
   "cell_type": "code",
   "execution_count": 11,
   "id": "changed-hotel",
   "metadata": {},
   "outputs": [
    {
     "data": {
      "text/plain": [
       "Index(['maxLoad', 'stressMaxLoad', 'strainMaxLoad', 'energyAbsorp', 'ph',\n",
       "       'sec_Mn', 'sec_Mw', 'sec_polyDisp'],\n",
       "      dtype='object')"
      ]
     },
     "execution_count": 11,
     "metadata": {},
     "output_type": "execute_result"
    }
   ],
   "source": [
    "initData_columnNames= initData.columns\n",
    "initData_columnNames"
   ]
  },
  {
   "cell_type": "code",
   "execution_count": 12,
   "id": "dedicated-survivor",
   "metadata": {},
   "outputs": [
    {
     "data": {
      "text/html": [
       "<div>\n",
       "<style scoped>\n",
       "    .dataframe tbody tr th:only-of-type {\n",
       "        vertical-align: middle;\n",
       "    }\n",
       "\n",
       "    .dataframe tbody tr th {\n",
       "        vertical-align: top;\n",
       "    }\n",
       "\n",
       "    .dataframe thead th {\n",
       "        text-align: right;\n",
       "    }\n",
       "</style>\n",
       "<table border=\"1\" class=\"dataframe\">\n",
       "  <thead>\n",
       "    <tr style=\"text-align: right;\">\n",
       "      <th></th>\n",
       "      <th>maxLoad</th>\n",
       "      <th>stressMaxLoad</th>\n",
       "      <th>strainMaxLoad</th>\n",
       "      <th>energyAbsorp</th>\n",
       "      <th>ph</th>\n",
       "      <th>sec_Mn</th>\n",
       "      <th>sec_Mw</th>\n",
       "      <th>sec_polyDisp</th>\n",
       "    </tr>\n",
       "  </thead>\n",
       "  <tbody>\n",
       "    <tr>\n",
       "      <th>0</th>\n",
       "      <td>0.344133</td>\n",
       "      <td>0.309853</td>\n",
       "      <td>0.493316</td>\n",
       "      <td>0.248452</td>\n",
       "      <td>0.081187</td>\n",
       "      <td>0.599406</td>\n",
       "      <td>0.329995</td>\n",
       "      <td>-0.075490</td>\n",
       "    </tr>\n",
       "    <tr>\n",
       "      <th>1</th>\n",
       "      <td>-0.586798</td>\n",
       "      <td>-0.595164</td>\n",
       "      <td>-0.295077</td>\n",
       "      <td>-0.398325</td>\n",
       "      <td>-0.060376</td>\n",
       "      <td>0.129665</td>\n",
       "      <td>-0.038202</td>\n",
       "      <td>-0.183841</td>\n",
       "    </tr>\n",
       "    <tr>\n",
       "      <th>2</th>\n",
       "      <td>-0.485324</td>\n",
       "      <td>-0.503530</td>\n",
       "      <td>-0.189311</td>\n",
       "      <td>-0.314023</td>\n",
       "      <td>0.127619</td>\n",
       "      <td>-0.324789</td>\n",
       "      <td>0.005652</td>\n",
       "      <td>0.504641</td>\n",
       "    </tr>\n",
       "    <tr>\n",
       "      <th>3</th>\n",
       "      <td>-0.514608</td>\n",
       "      <td>-0.551532</td>\n",
       "      <td>0.476097</td>\n",
       "      <td>-0.086910</td>\n",
       "      <td>0.406624</td>\n",
       "      <td>-0.165529</td>\n",
       "      <td>-0.030627</td>\n",
       "      <td>0.055579</td>\n",
       "    </tr>\n",
       "    <tr>\n",
       "      <th>4</th>\n",
       "      <td>-0.318846</td>\n",
       "      <td>-0.210270</td>\n",
       "      <td>0.117272</td>\n",
       "      <td>-0.161887</td>\n",
       "      <td>0.411529</td>\n",
       "      <td>0.751004</td>\n",
       "      <td>0.233589</td>\n",
       "      <td>-0.161980</td>\n",
       "    </tr>\n",
       "  </tbody>\n",
       "</table>\n",
       "</div>"
      ],
      "text/plain": [
       "    maxLoad  stressMaxLoad  strainMaxLoad  energyAbsorp        ph    sec_Mn  \\\n",
       "0  0.344133       0.309853       0.493316      0.248452  0.081187  0.599406   \n",
       "1 -0.586798      -0.595164      -0.295077     -0.398325 -0.060376  0.129665   \n",
       "2 -0.485324      -0.503530      -0.189311     -0.314023  0.127619 -0.324789   \n",
       "3 -0.514608      -0.551532       0.476097     -0.086910  0.406624 -0.165529   \n",
       "4 -0.318846      -0.210270       0.117272     -0.161887  0.411529  0.751004   \n",
       "\n",
       "     sec_Mw  sec_polyDisp  \n",
       "0  0.329995     -0.075490  \n",
       "1 -0.038202     -0.183841  \n",
       "2  0.005652      0.504641  \n",
       "3 -0.030627      0.055579  \n",
       "4  0.233589     -0.161980  "
      ]
     },
     "execution_count": 12,
     "metadata": {},
     "output_type": "execute_result"
    }
   ],
   "source": [
    "scaleNormPipe = pipeline.fit_transform(initData)\n",
    "pca_df = pd.DataFrame(data = scaleNormPipe, columns = initData_columnNames)\n",
    "pca_df.head()"
   ]
  },
  {
   "cell_type": "markdown",
   "id": "protected-advantage",
   "metadata": {},
   "source": [
    "## PCA"
   ]
  },
  {
   "cell_type": "code",
   "execution_count": 18,
   "id": "understood-title",
   "metadata": {},
   "outputs": [],
   "source": [
    "from sklearn.model_selection import train_test_split\n",
    "# \"target\" contains the column name of the classification labels\n",
    "target = \"sec_Mw\"\n",
    "\n",
    "X = pca_df.drop(target, 1)\n",
    "y = pca_df[target]\n",
    "\n",
    "# seed = 7\n",
    "# test_size = 0.33\n",
    "# X_train, X_test, y_train, y_test = train_test_split(X, y, test_size=test_size, random_state=seed)"
   ]
  },
  {
   "cell_type": "code",
   "execution_count": 27,
   "id": "finnish-partition",
   "metadata": {},
   "outputs": [],
   "source": [
    "##Transforming Data to Standard Scaler\n",
    "pca_train = pipeline.fit_transform(X)\n",
    "# pca_test = pipeline.transform(X_test)\n",
    "\n",
    "##Taking Scaled Data and Applying PCA\n",
    "pca_train = pca.fit_transform(pca_train)\n",
    "# pca_test = pca.transform(pca_test)\n",
    "\n",
    "##Putting Principal Component Data into Train & Test Dataframes\n",
    "pca_train_df = pd.DataFrame(data = pca_train, columns = ['PC1', 'PC2', 'PC3'])\n",
    "# pca_test_df = pd.DataFrame(data = pca_test, columns = ['PC1', 'PC2','PC3'])"
   ]
  },
  {
   "cell_type": "code",
   "execution_count": 28,
   "id": "responsible-litigation",
   "metadata": {},
   "outputs": [
    {
     "data": {
      "text/plain": [
       "array([0.42403519, 0.20468533, 0.13753282])"
      ]
     },
     "execution_count": 28,
     "metadata": {},
     "output_type": "execute_result"
    }
   ],
   "source": [
    "##Explained Variance\n",
    "explained_variance = pca.explained_variance_ratio_\n",
    "explained_variance"
   ]
  },
  {
   "cell_type": "code",
   "execution_count": 31,
   "id": "abstract-restaurant",
   "metadata": {},
   "outputs": [
    {
     "data": {
      "text/html": [
       "<div>\n",
       "<style scoped>\n",
       "    .dataframe tbody tr th:only-of-type {\n",
       "        vertical-align: middle;\n",
       "    }\n",
       "\n",
       "    .dataframe tbody tr th {\n",
       "        vertical-align: top;\n",
       "    }\n",
       "\n",
       "    .dataframe thead th {\n",
       "        text-align: right;\n",
       "    }\n",
       "</style>\n",
       "<table border=\"1\" class=\"dataframe\">\n",
       "  <thead>\n",
       "    <tr style=\"text-align: right;\">\n",
       "      <th></th>\n",
       "      <th>PC1</th>\n",
       "      <th>PC2</th>\n",
       "      <th>PC3</th>\n",
       "      <th>sec_Mw</th>\n",
       "    </tr>\n",
       "  </thead>\n",
       "  <tbody>\n",
       "    <tr>\n",
       "      <th>0</th>\n",
       "      <td>0.975108</td>\n",
       "      <td>0.338690</td>\n",
       "      <td>-0.103336</td>\n",
       "      <td>0.329995</td>\n",
       "    </tr>\n",
       "    <tr>\n",
       "      <th>1</th>\n",
       "      <td>-0.782933</td>\n",
       "      <td>0.402318</td>\n",
       "      <td>-0.347036</td>\n",
       "      <td>-0.038202</td>\n",
       "    </tr>\n",
       "    <tr>\n",
       "      <th>2</th>\n",
       "      <td>-0.538504</td>\n",
       "      <td>-0.393516</td>\n",
       "      <td>-0.680711</td>\n",
       "      <td>0.005652</td>\n",
       "    </tr>\n",
       "    <tr>\n",
       "      <th>3</th>\n",
       "      <td>0.030561</td>\n",
       "      <td>0.148021</td>\n",
       "      <td>-0.769422</td>\n",
       "      <td>-0.030627</td>\n",
       "    </tr>\n",
       "    <tr>\n",
       "      <th>4</th>\n",
       "      <td>0.184606</td>\n",
       "      <td>0.698926</td>\n",
       "      <td>-0.672597</td>\n",
       "      <td>0.233589</td>\n",
       "    </tr>\n",
       "    <tr>\n",
       "      <th>...</th>\n",
       "      <td>...</td>\n",
       "      <td>...</td>\n",
       "      <td>...</td>\n",
       "      <td>...</td>\n",
       "    </tr>\n",
       "    <tr>\n",
       "      <th>952</th>\n",
       "      <td>-0.425140</td>\n",
       "      <td>-0.703877</td>\n",
       "      <td>-0.449938</td>\n",
       "      <td>-0.080537</td>\n",
       "    </tr>\n",
       "    <tr>\n",
       "      <th>953</th>\n",
       "      <td>0.874244</td>\n",
       "      <td>-0.317283</td>\n",
       "      <td>-0.455697</td>\n",
       "      <td>0.142196</td>\n",
       "    </tr>\n",
       "    <tr>\n",
       "      <th>954</th>\n",
       "      <td>0.579771</td>\n",
       "      <td>-0.347257</td>\n",
       "      <td>-0.095650</td>\n",
       "      <td>-0.370792</td>\n",
       "    </tr>\n",
       "    <tr>\n",
       "      <th>955</th>\n",
       "      <td>0.924671</td>\n",
       "      <td>-0.078040</td>\n",
       "      <td>-0.350393</td>\n",
       "      <td>-0.027026</td>\n",
       "    </tr>\n",
       "    <tr>\n",
       "      <th>956</th>\n",
       "      <td>0.707504</td>\n",
       "      <td>-0.616681</td>\n",
       "      <td>-0.411604</td>\n",
       "      <td>0.113625</td>\n",
       "    </tr>\n",
       "  </tbody>\n",
       "</table>\n",
       "<p>957 rows × 4 columns</p>\n",
       "</div>"
      ],
      "text/plain": [
       "          PC1       PC2       PC3    sec_Mw\n",
       "0    0.975108  0.338690 -0.103336  0.329995\n",
       "1   -0.782933  0.402318 -0.347036 -0.038202\n",
       "2   -0.538504 -0.393516 -0.680711  0.005652\n",
       "3    0.030561  0.148021 -0.769422 -0.030627\n",
       "4    0.184606  0.698926 -0.672597  0.233589\n",
       "..        ...       ...       ...       ...\n",
       "952 -0.425140 -0.703877 -0.449938 -0.080537\n",
       "953  0.874244 -0.317283 -0.455697  0.142196\n",
       "954  0.579771 -0.347257 -0.095650 -0.370792\n",
       "955  0.924671 -0.078040 -0.350393 -0.027026\n",
       "956  0.707504 -0.616681 -0.411604  0.113625\n",
       "\n",
       "[957 rows x 4 columns]"
      ]
     },
     "execution_count": 31,
     "metadata": {},
     "output_type": "execute_result"
    }
   ],
   "source": [
    "PCAs_Mw = pd.concat([pca_train_df,y], axis = 1)\n",
    "PCAs_Mw"
   ]
  },
  {
   "cell_type": "code",
   "execution_count": 34,
   "id": "structural-pressure",
   "metadata": {},
   "outputs": [],
   "source": [
    "y_pca=pd.concat([PCAs_Mw,year_series], axis = 1)"
   ]
  },
  {
   "cell_type": "code",
   "execution_count": null,
   "id": "rolled-mercy",
   "metadata": {},
   "outputs": [],
   "source": [
    "# ##Appending Our Target Parameter, sec_Mw Onto the Training Principal Component Dataframe\n",
    "# target = pd.Series(y_train, name='sec_Mw')\n",
    "# result_df_train = pd.concat([pca_train_df, target], axis=1)\n",
    "# result_df_train.head()\n",
    "# result_df_test = pd.concat([pca_test_df, y_test], axis=1)\n",
    "# result_df_test"
   ]
  },
  {
   "cell_type": "markdown",
   "id": "individual-blame",
   "metadata": {},
   "source": [
    "## SCATTER PLOT"
   ]
  },
  {
   "cell_type": "code",
   "execution_count": 44,
   "id": "occupied-reynolds",
   "metadata": {},
   "outputs": [
    {
     "data": {
      "text/plain": [
       "<AxesSubplot:xlabel='PC1', ylabel='PC2'>"
      ]
     },
     "execution_count": 44,
     "metadata": {},
     "output_type": "execute_result"
    },
    {
     "data": {
      "image/png": "[encoded data removed]",
      "text/plain": [
       "<Figure size 432x288 with 1 Axes>"
      ]
     },
     "metadata": {
      "needs_background": "light"
     },
     "output_type": "display_data"
    }
   ],
   "source": [
    "# sns.scatterplot(data=PCAs_Mw, x='PC1', y='PC2', hue=year_series, palette='deep')\n",
    "sns.scatterplot(data=y_pca[y_pca['year']==1900], x='PC1', y='PC2', hue=year_series, palette='deep')\n",
    "\n",
    "#year_series"
   ]
  },
  {
   "cell_type": "markdown",
   "id": "extra-democrat",
   "metadata": {},
   "source": [
    "# Scree code"
   ]
  },
  {
   "cell_type": "code",
   "execution_count": null,
   "id": "accurate-complement",
   "metadata": {},
   "outputs": [],
   "source": [
    "screePipe = pipeline.fit_transform(initData)\n",
    "scree_pca = PCA(n_components=5)"
   ]
  },
  {
   "cell_type": "code",
   "execution_count": null,
   "id": "international-regulation",
   "metadata": {},
   "outputs": [],
   "source": [
    "screeFitTransf=scree_pca.fit_transform(screePipe)"
   ]
  },
  {
   "cell_type": "code",
   "execution_count": null,
   "id": "treated-responsibility",
   "metadata": {},
   "outputs": [],
   "source": [
    "screeFitTransf"
   ]
  },
  {
   "cell_type": "code",
   "execution_count": null,
   "id": "funded-compression",
   "metadata": {},
   "outputs": [],
   "source": [
    "scree_df = pd.DataFrame(data = screeFitTransf, columns = ['PC 1', 'PC 2', 'PC 3', 'PC 4', 'PC 5'])"
   ]
  },
  {
   "cell_type": "code",
   "execution_count": null,
   "id": "better-trance",
   "metadata": {},
   "outputs": [],
   "source": [
    "scree_df.head()"
   ]
  },
  {
   "cell_type": "markdown",
   "id": "addressed-translator",
   "metadata": {},
   "source": [
    "## SCREE PLOT"
   ]
  },
  {
   "cell_type": "code",
   "execution_count": null,
   "id": "recorded-mentor",
   "metadata": {},
   "outputs": [],
   "source": [
    "import matplotlib.pyplot as plt\n",
    "\n",
    "scree_PC_Values = np.arange(scree_pca.n_components_) + 1\n",
    "plt.plot(scree_PC_Values, np.square(scree_pca.explained_variance_ratio_), 'ro-', linewidth=2)\n",
    "###We transformed the scree plot by squaring the variance explained to make the \"ideal\" PC more apparent\n",
    "plt.title('Scree Plot')\n",
    "plt.xlabel('Principal Component')\n",
    "plt.ylabel('Proportion of Variance Explained\\n(transformed, squared)')\n",
    "plt.show()"
   ]
  }
 ],
 "metadata": {
  "kernelspec": {
   "display_name": "Python 3",
   "language": "python",
   "name": "python3"
  },
  "language_info": {
   "codemirror_mode": {
    "name": "ipython",
    "version": 3
   },
   "file_extension": ".py",
   "mimetype": "text/x-python",
   "name": "python",
   "nbconvert_exporter": "python",
   "pygments_lexer": "ipython3",
   "version": "3.8.5"
  }
 },
 "nbformat": 4,
 "nbformat_minor": 5
}
