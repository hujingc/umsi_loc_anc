{
 "cells": [
  {
   "cell_type": "markdown",
   "id": "valid-landscape",
   "metadata": {},
   "source": [
    "# PCA MODEL"
   ]
  },
  {
   "cell_type": "markdown",
   "id": "arabic-hearing",
   "metadata": {},
   "source": [
    "# LOADING DATA"
   ]
  },
  {
   "cell_type": "code",
   "execution_count": 6,
   "id": "homeless-pearl",
   "metadata": {},
   "outputs": [],
   "source": [
    "import pandas as pd\n",
    "import numpy as np\n",
    "import seaborn as sns\n",
    "import matplotlib.pyplot as plt\n",
    "import datetime"
   ]
  },
  {
   "cell_type": "code",
   "execution_count": 5,
   "id": "clear-leadership",
   "metadata": {
    "scrolled": true
   },
   "outputs": [
    {
     "data": {
      "text/html": [
       "<div>\n",
       "<style scoped>\n",
       "    .dataframe tbody tr th:only-of-type {\n",
       "        vertical-align: middle;\n",
       "    }\n",
       "\n",
       "    .dataframe tbody tr th {\n",
       "        vertical-align: top;\n",
       "    }\n",
       "\n",
       "    .dataframe thead th {\n",
       "        text-align: right;\n",
       "    }\n",
       "</style>\n",
       "<table border=\"1\" class=\"dataframe\">\n",
       "  <thead>\n",
       "    <tr style=\"text-align: right;\">\n",
       "      <th></th>\n",
       "      <th>maxLoad</th>\n",
       "      <th>stressMaxLoad</th>\n",
       "      <th>strainMaxLoad</th>\n",
       "      <th>energyAbsorp</th>\n",
       "      <th>ph</th>\n",
       "      <th>sec_Mn</th>\n",
       "      <th>sec_Mw</th>\n",
       "      <th>sec_polyDisp</th>\n",
       "      <th>year</th>\n",
       "    </tr>\n",
       "  </thead>\n",
       "  <tbody>\n",
       "    <tr>\n",
       "      <th>0</th>\n",
       "      <td>34.670</td>\n",
       "      <td>28.7790</td>\n",
       "      <td>0.051118</td>\n",
       "      <td>0.072340</td>\n",
       "      <td>5.065</td>\n",
       "      <td>44.1</td>\n",
       "      <td>127.6</td>\n",
       "      <td>2.890</td>\n",
       "      <td>1840-01-01</td>\n",
       "    </tr>\n",
       "    <tr>\n",
       "      <th>1</th>\n",
       "      <td>12.710</td>\n",
       "      <td>9.7289</td>\n",
       "      <td>0.030050</td>\n",
       "      <td>0.023396</td>\n",
       "      <td>4.830</td>\n",
       "      <td>35.9</td>\n",
       "      <td>85.4</td>\n",
       "      <td>2.377</td>\n",
       "      <td>1840-01-01</td>\n",
       "    </tr>\n",
       "    <tr>\n",
       "      <th>2</th>\n",
       "      <td>17.301</td>\n",
       "      <td>13.5850</td>\n",
       "      <td>0.034793</td>\n",
       "      <td>0.034683</td>\n",
       "      <td>5.207</td>\n",
       "      <td>20.1</td>\n",
       "      <td>93.4</td>\n",
       "      <td>4.653</td>\n",
       "      <td>1842-01-01</td>\n",
       "    </tr>\n",
       "    <tr>\n",
       "      <th>3</th>\n",
       "      <td>25.879</td>\n",
       "      <td>21.3200</td>\n",
       "      <td>0.044734</td>\n",
       "      <td>0.057662</td>\n",
       "      <td>5.165</td>\n",
       "      <td>29.5</td>\n",
       "      <td>91.2</td>\n",
       "      <td>3.094</td>\n",
       "      <td>1843-01-01</td>\n",
       "    </tr>\n",
       "    <tr>\n",
       "      <th>4</th>\n",
       "      <td>14.901</td>\n",
       "      <td>16.1320</td>\n",
       "      <td>0.047622</td>\n",
       "      <td>0.036076</td>\n",
       "      <td>6.405</td>\n",
       "      <td>76.8</td>\n",
       "      <td>161.6</td>\n",
       "      <td>2.105</td>\n",
       "      <td>1844-01-01</td>\n",
       "    </tr>\n",
       "  </tbody>\n",
       "</table>\n",
       "</div>"
      ],
      "text/plain": [
       "   maxLoad  stressMaxLoad  strainMaxLoad  energyAbsorp     ph  sec_Mn  sec_Mw  \\\n",
       "0   34.670        28.7790       0.051118      0.072340  5.065    44.1   127.6   \n",
       "1   12.710         9.7289       0.030050      0.023396  4.830    35.9    85.4   \n",
       "2   17.301        13.5850       0.034793      0.034683  5.207    20.1    93.4   \n",
       "3   25.879        21.3200       0.044734      0.057662  5.165    29.5    91.2   \n",
       "4   14.901        16.1320       0.047622      0.036076  6.405    76.8   161.6   \n",
       "\n",
       "   sec_polyDisp        year  \n",
       "0         2.890  1840-01-01  \n",
       "1         2.377  1840-01-01  \n",
       "2         4.653  1842-01-01  \n",
       "3         3.094  1843-01-01  \n",
       "4         2.105  1844-01-01  "
      ]
     },
     "execution_count": 5,
     "metadata": {},
     "output_type": "execute_result"
    }
   ],
   "source": [
    "initData = pd.read_csv(\"publisher_analysis_data.csv\")\n",
    "initData = initData.drop(columns = ['youngsMod','Unnamed: 0', 'sec_calcMass', 'sec_massRec', 'publisher'])\n",
    "initData.head()"
   ]
  },
  {
   "cell_type": "code",
   "execution_count": 11,
   "id": "irish-regular",
   "metadata": {},
   "outputs": [
    {
     "ename": "TypeError",
     "evalue": "'getset_descriptor' object is not callable",
     "output_type": "error",
     "traceback": [
      "\u001b[1;31m---------------------------------------------------------------------------\u001b[0m",
      "\u001b[1;31mTypeError\u001b[0m                                 Traceback (most recent call last)",
      "\u001b[1;32m<ipython-input-11-67d434372aed>\u001b[0m in \u001b[0;36m<module>\u001b[1;34m\u001b[0m\n\u001b[1;32m----> 1\u001b[1;33m \u001b[0minitData\u001b[0m\u001b[1;33m.\u001b[0m\u001b[0myear\u001b[0m\u001b[1;33m.\u001b[0m\u001b[0mapply\u001b[0m\u001b[1;33m(\u001b[0m\u001b[0mdatetime\u001b[0m\u001b[1;33m.\u001b[0m\u001b[0mdatetime\u001b[0m\u001b[1;33m.\u001b[0m\u001b[0myear\u001b[0m\u001b[1;33m(\u001b[0m\u001b[1;33m)\u001b[0m\u001b[1;33m)\u001b[0m\u001b[1;33m\u001b[0m\u001b[1;33m\u001b[0m\u001b[0m\n\u001b[0m",
      "\u001b[1;31mTypeError\u001b[0m: 'getset_descriptor' object is not callable"
     ]
    }
   ],
   "source": [
    "initData.year.apply(lambda x: x.split()[]"
   ]
  },
  {
   "cell_type": "code",
   "execution_count": 6,
   "id": "animated-calgary",
   "metadata": {},
   "outputs": [
    {
     "data": {
      "text/plain": [
       "(957, 9)"
      ]
     },
     "execution_count": 6,
     "metadata": {},
     "output_type": "execute_result"
    }
   ],
   "source": [
    "initData = initData.dropna()\n",
    "initData.shape"
   ]
  }
 ],
 "metadata": {
  "kernelspec": {
   "display_name": "Python 3",
   "language": "python",
   "name": "python3"
  },
  "language_info": {
   "codemirror_mode": {
    "name": "ipython",
    "version": 3
   },
   "file_extension": ".py",
   "mimetype": "text/x-python",
   "name": "python",
   "nbconvert_exporter": "python",
   "pygments_lexer": "ipython3",
   "version": "3.8.5"
  }
 },
 "nbformat": 4,
 "nbformat_minor": 5
}
