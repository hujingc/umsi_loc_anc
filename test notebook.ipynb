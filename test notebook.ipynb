{
 "cells": [
  {
   "cell_type": "code",
   "execution_count": 1,
   "metadata": {},
   "outputs": [],
   "source": [
    "import couchdb\n",
    "import csv\n",
    "import re\n",
    "import json\n",
    "import time\n",
    "import pandas as pd\n",
    "import numpy as np\n",
    "import matplotlib.pyplot as plt\n",
    "import seaborn as sns"
   ]
  },
  {
   "cell_type": "code",
   "execution_count": 2,
   "metadata": {},
   "outputs": [],
   "source": [
    "secure_remote_server = couchdb.Server('')\n",
    "db = secure_remote_server['anc5']"
   ]
  },
  {
   "cell_type": "code",
   "execution_count": 3,
   "metadata": {},
   "outputs": [
    {
     "data": {
      "text/plain": [
       "['sample:0000016152',\n",
       " 'sample:0000016153',\n",
       " 'sample:0000016154',\n",
       " 'sample:0000016155',\n",
       " 'sample:0000016156']"
      ]
     },
     "execution_count": 3,
     "metadata": {},
     "output_type": "execute_result"
    }
   ],
   "source": [
    "[x for x in db][-5:]"
   ]
  },
  {
   "cell_type": "code",
   "execution_count": 4,
   "metadata": {},
   "outputs": [],
   "source": [
    "list_ids  = [id for id in db]\n",
    "# def flatten_json(y):\n",
    "#     out = {}\n",
    "\n",
    "#     def flatten(x, name=''):\n",
    "#         if type(x) is dict:\n",
    "#             for a in x:\n",
    "#                 flatten(x[a], name + a + '_')\n",
    "#         elif type(x) is list:\n",
    "#             i = 0\n",
    "#             for a in x:\n",
    "#                 flatten(a, name + str(i) + '_')\n",
    "#                 i += 1\n",
    "#         else:\n",
    "#             out[name[:-1]] = x\n",
    "\n",
    "#     flatten(y)\n",
    "#     return out"
   ]
  },
  {
   "cell_type": "code",
   "execution_count": 5,
   "metadata": {},
   "outputs": [
    {
     "data": {
      "text/plain": [
       "['analysis:0000000000',\n",
       " 'analysis:0000000001',\n",
       " 'analysis:0000000002',\n",
       " 'analysis:0000000003',\n",
       " 'analysis:0000000004']"
      ]
     },
     "execution_count": 5,
     "metadata": {},
     "output_type": "execute_result"
    }
   ],
   "source": [
    "list_ids[2:][:5] #basically .head()"
   ]
  },
  {
   "cell_type": "code",
   "execution_count": 6,
   "metadata": {},
   "outputs": [],
   "source": [
    "types = {'analysis': 0, 'book':0, 'catalog':0, 'institution':0, 'paper':0, 'person':0, 'sample':0}\n",
    "data=[]\n",
    "for x in list_ids[2:]:\n",
    "    lis = x.split(':')\n",
    "    data.append(lis[0])\n",
    "    types[lis[0]]+=1"
   ]
  },
  {
   "cell_type": "code",
   "execution_count": 7,
   "metadata": {},
   "outputs": [
    {
     "data": {
      "text/plain": [
       "'analysis'"
      ]
     },
     "execution_count": 7,
     "metadata": {},
     "output_type": "execute_result"
    }
   ],
   "source": [
    "data[2]"
   ]
  },
  {
   "cell_type": "code",
   "execution_count": 8,
   "metadata": {},
   "outputs": [
    {
     "data": {
      "text/plain": [
       "{'analysis': 7236,\n",
       " 'book': 1267,\n",
       " 'catalog': 553,\n",
       " 'institution': 7,\n",
       " 'paper': 10,\n",
       " 'person': 38,\n",
       " 'sample': 5947}"
      ]
     },
     "execution_count": 8,
     "metadata": {},
     "output_type": "execute_result"
    }
   ],
   "source": [
    "types"
   ]
  },
  {
   "cell_type": "code",
   "execution_count": 9,
   "metadata": {},
   "outputs": [],
   "source": [
    "actual_data = {'analysis': 7236,\n",
    " 'book': 1267,\n",
    " 'catalog': 553,\n",
    " 'sample': 5947}\n",
    "\n",
    "ref = {'institution': 7,\n",
    " 'paper': 10,\n",
    " 'person': 38}\n"
   ]
  },
  {
   "cell_type": "code",
   "execution_count": 31,
   "metadata": {},
   "outputs": [
    {
     "data": {
      "image/png": "[encoded data removed]",
      "text/plain": [
       "<Figure size 432x288 with 1 Axes>"
      ]
     },
     "metadata": {
      "needs_background": "light"
     },
     "output_type": "display_data"
    }
   ],
   "source": [
    "#124aff\n",
    "plt.bar(actual_data.keys(), actual_data.values(), color = \"#124aff\")\n",
    "plt.title('Data Points')\n",
    "plt.savefig(\"data.jpg\")\n",
    "plt.show()"
   ]
  },
  {
   "cell_type": "code",
   "execution_count": 32,
   "metadata": {},
   "outputs": [
    {
     "data": {
      "image/png": "[encoded data removed]",
      "text/plain": [
       "<Figure size 432x288 with 1 Axes>"
      ]
     },
     "metadata": {
      "needs_background": "light"
     },
     "output_type": "display_data"
    }
   ],
   "source": [
    "plt.bar(ref.keys(), ref.values(), color = \"#124aff\")\n",
    "plt.title('Information')\n",
    "plt.savefig(\"info.jpg\")\n",
    "plt.show()"
   ]
  },
  {
   "cell_type": "code",
   "execution_count": null,
   "metadata": {},
   "outputs": [],
   "source": []
  }
 ],
 "metadata": {
  "kernelspec": {
   "display_name": "Python 3",
   "language": "python",
   "name": "python3"
  },
  "language_info": {
   "codemirror_mode": {
    "name": "ipython",
    "version": 3
   },
   "file_extension": ".py",
   "mimetype": "text/x-python",
   "name": "python",
   "nbconvert_exporter": "python",
   "pygments_lexer": "ipython3",
   "version": "3.8.5"
  }
 },
 "nbformat": 4,
 "nbformat_minor": 4
}
